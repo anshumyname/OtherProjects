{
 "cells": [
  {
   "cell_type": "markdown",
   "metadata": {},
   "source": [
    "<center>\n",
    "<h1>Resume Scorer ( Information Retrieval Assignment )</h1>\n",
    "<h3>Name - Anshuman Srivastava</h3>\n",
    "<h3>Roll - BTECH/10408/18</h3>\n",
    "</center>"
   ]
  },
  {
   "cell_type": "markdown",
   "metadata": {},
   "source": [
    "___________________________________________________"
   ]
  },
  {
   "cell_type": "markdown",
   "metadata": {},
   "source": [
    "<h3> <b>Problem Statement and Dataset</b> <br> A Hackerearth  competition named <a href=\"https://www.hackerearth.com/challenges/competitive/hackerearth-machine-learning-challenge-resume-shortlisting/?utm_source=challenges-modern&utm_campaign=participated-challenges&utm_medium=right-panel\">\"A Perfect Fit - ML Challenge\"</a> was held in August 2021. Broadly the problem solution was to retrieve the valuable information from a resume and score it according to a given Job Describtion. I have used the a set of 150 resumes to train the model which was available in a competition </h3>"
   ]
  },
  {
   "cell_type": "markdown",
   "metadata": {},
   "source": [
    "<h2><b>Approach</b></h2>\n",
    "<ul>\n",
    "<li> <h3> <b>Step 1 - Convert to Txt</b> - Since the resume are in pdf formats first we need to convert them into readable formats (txt here). <br> For this purpose I have used \"pdf2miner\" python library and stored all resumes in txt format.</h3></li>\n",
    "<br>\n",
    "<li><h3><b>Step 2 - Cleaning & WordBreak</b> - Now we have resume text and before moving further we must preprocess it removing all kinds of stopwords, URLs, whitespaces etc.. using \"NLTK\" library.After cleaning is done the whole text is split into words</h3></li>\n",
    "<br>\n",
    "<li><h3><b>Step 3 - Splitting Into Sections</b> - This is the main part where we divide words in 5 categories ( [\"personal\",\"projects\",\"experience\",\"skills\",\"education\"]) . We do a linear scan over all words and take find these 5 keywords in the resume and take correspoding lines after them. </h3></li>\n",
    "<br>\n",
    "<li><h3><b>Step 4 - Vectorization and Calculating Cosine</b> - For each section we transform each word to its \"Glove vector of 100 dimenstions\" and then accumulate their average over each dimension. Above 4 steps will be applied to JD also and then we will compare the cosing similarity of two vectors for each section </h3></li>\n",
    "<br>\n",
    "<li><h3><b>Step 5 - Score from Cosine Similarities </b> - Now we will have 5 cosine similaries according corresponding to a Job Description . Next step we will make a small Neural Network with 5 input layers 2 hidden layers and 1 output layers. We will train the network through the train data given. Hence obtaining a score of how much the resume is perfect fit for the corresponding Job Description</h3></li>\n",
    "\n",
    "</ul>\n",
    "\n"
   ]
  },
  {
   "cell_type": "markdown",
   "metadata": {},
   "source": [
    "_________________________________"
   ]
  },
  {
   "cell_type": "markdown",
   "metadata": {},
   "source": [
    "<b><h3>CODE</h3></b> \n",
    "<h5>Since Step 1 was very small I have started with Step2 here</h5>"
   ]
  },
  {
   "cell_type": "code",
   "execution_count": 1,
   "metadata": {},
   "outputs": [],
   "source": [
    "'''\n",
    "Importing Libraries\n",
    "'''\n",
    "import re\n",
    "import os\n",
    "import numpy as np\n",
    "import pandas as pd\n",
    "import nltk \n",
    "from nltk.corpus import stopwords\n",
    "from numpy import dot\n",
    "from numpy.linalg import norm"
   ]
  },
  {
   "cell_type": "code",
   "execution_count": 2,
   "metadata": {},
   "outputs": [],
   "source": [
    "'''\n",
    "Declaring Constants\n",
    "'''\n",
    "keywords = [\"personal\",\"projects\",\"experience\",\"skills\",\"education\"]\n",
    "stop_words = stopwords.words('english')\n",
    "MAX_SEQUENCE_LENGTH = 100\n",
    "MAX_WORDS = None"
   ]
  },
  {
   "cell_type": "code",
   "execution_count": 3,
   "metadata": {},
   "outputs": [],
   "source": [
    "'''\n",
    "Cleaning Resume Text obtained after converting PDF to txt\n",
    "'''\n",
    "def cleanResume(resumeText):\n",
    "    resumeText = re.sub('http\\S+\\s*', ' ', resumeText)  # remove URLs\n",
    "    resumeText = re.sub('RT|cc', ' ', resumeText)  # remove RT and cc\n",
    "    resumeText = re.sub('@\\S+', '  ', resumeText)  # remove mentions\n",
    "    resumeText = re.sub('[%s]' % re.escape(\"\"\"!\"#$%&'()*,-./:;<=>?@[\\]^_`{|}~\"\"\"), ' ', resumeText)  # remove punctuations\n",
    "    resumeText = re.sub(r'[^\\x00-\\x7f]',r' ', resumeText) \n",
    "    resumeText = re.sub('\\s+', ' ', resumeText)  # remove extra whitespace\n",
    "    resumeText = [x for x in resumeText.split() if x not in stop_words]     #Removing stopwords\n",
    "    return resumeText"
   ]
  },
  {
   "cell_type": "code",
   "execution_count": 5,
   "metadata": {},
   "outputs": [],
   "source": [
    "'''\n",
    "Function to divide the text into 5 sections as discussed\n",
    "'''\n",
    "def read_txt (path_to_folder, dir):\n",
    "    indexes = []\n",
    "    categories = {}\n",
    "    for w in keywords:\n",
    "        categories[w] = []\n",
    "    for filename in dir:\n",
    "        file = open(path_to_folder + filename,'r')\n",
    "        read = file.read()\n",
    "        read = read.lower()\n",
    "        file.close()\n",
    "\n",
    "        read = cleanResume(read)\n",
    "\n",
    "        hash = {}\n",
    "        hash[\"personal\"] =0\n",
    "        for word in keywords:\n",
    "            if word in read:\n",
    "                hash[word] = read.index(word)\n",
    "\n",
    "\n",
    "        items = sorted(hash.items(), key = lambda x: x[1])\n",
    "        for i in range(len(items)):\n",
    "            start = items[i][1]\n",
    "            end = None\n",
    "            if (i+1)==len(items):\n",
    "                end = len(read)\n",
    "            else:\n",
    "                end = items[i+1][1]\n",
    "\n",
    "            categories[items[i][0]].append(read[start:end])\n",
    "\n",
    "        for w in keywords:\n",
    "            if w not in hash.keys():\n",
    "                categories[w].append('None') \n",
    "\n",
    "        indexes.append(filename)\n",
    "    return  categories, indexes"
   ]
  },
  {
   "cell_type": "code",
   "execution_count": 6,
   "metadata": {},
   "outputs": [],
   "source": [
    "dir = os.listdir('./train_txt/')\n",
    "categories, indexes = read_txt('./train_txt/',dir)"
   ]
  },
  {
   "cell_type": "code",
   "execution_count": 7,
   "metadata": {},
   "outputs": [],
   "source": [
    "data = []\n",
    "words_dict = ['None']\n",
    "for i in range(len(indexes)):\n",
    "    row = []\n",
    "    for w in keywords:\n",
    "        row.append(categories[w][i])\n",
    "        if categories[w][i] is not  None:\n",
    "            words_dict+=categories[w][i]\n",
    "\n",
    "    data.append(row)"
   ]
  },
  {
   "cell_type": "code",
   "execution_count": 17,
   "metadata": {},
   "outputs": [
    {
     "data": {
      "text/html": [
       "<div>\n",
       "<style scoped>\n",
       "    .dataframe tbody tr th:only-of-type {\n",
       "        vertical-align: middle;\n",
       "    }\n",
       "\n",
       "    .dataframe tbody tr th {\n",
       "        vertical-align: top;\n",
       "    }\n",
       "\n",
       "    .dataframe thead th {\n",
       "        text-align: right;\n",
       "    }\n",
       "</style>\n",
       "<table border=\"1\" class=\"dataframe\">\n",
       "  <thead>\n",
       "    <tr style=\"text-align: right;\">\n",
       "      <th></th>\n",
       "      <th>personal</th>\n",
       "      <th>projects</th>\n",
       "      <th>experience</th>\n",
       "      <th>skills</th>\n",
       "      <th>education</th>\n",
       "    </tr>\n",
       "  </thead>\n",
       "  <tbody>\n",
       "    <tr>\n",
       "      <th>candidate_000.txt</th>\n",
       "      <td>[personal, profile, actively, seeking, opportu...</td>\n",
       "      <td>[projects, music, genre, classification, face,...</td>\n",
       "      <td>None</td>\n",
       "      <td>[skills, python, sql, mysql, tableau, power, b...</td>\n",
       "      <td>[education, b, tech, ece, vit, ap, university,...</td>\n",
       "    </tr>\n",
       "    <tr>\n",
       "      <th>candidate_001.txt</th>\n",
       "      <td>[brianna, williams, junior, developer, executi...</td>\n",
       "      <td>[projects, also, contribute, knowledge, logica...</td>\n",
       "      <td>[experience, curiosity, driven, data, scientis...</td>\n",
       "      <td>[skills, towards, consistent, growth, developm...</td>\n",
       "      <td>[education, teamwork, bsc, ca, mamco, universi...</td>\n",
       "    </tr>\n",
       "    <tr>\n",
       "      <th>candidate_002.txt</th>\n",
       "      <td>[mason, quadrado, associate, analyst, certifie...</td>\n",
       "      <td>None</td>\n",
       "      <td>[experience, analyzing, interpreting, data, go...</td>\n",
       "      <td>[skills, python, machine, learning, mysql, dat...</td>\n",
       "      <td>[education, b, tech, b, e, electronics, teleco...</td>\n",
       "    </tr>\n",
       "    <tr>\n",
       "      <th>candidate_003.txt</th>\n",
       "      <td>[associate, software, engineer]</td>\n",
       "      <td>[projects, koy, ok, 1e, im, ge, tena, wal, tur...</td>\n",
       "      <td>[experience, software, engineer, machine, lear...</td>\n",
       "      <td>[skills, ava, alo, avin, zt, od, al, ms, 1, da...</td>\n",
       "      <td>[education, b, tech, v, v, 2018, activities, a...</td>\n",
       "    </tr>\n",
       "    <tr>\n",
       "      <th>candidate_006.txt</th>\n",
       "      <td>[jennifer, armstrong, computer, vision, enthus...</td>\n",
       "      <td>[projects, understanding, images, gan, based, ...</td>\n",
       "      <td>[experience, currently, professional, experience]</td>\n",
       "      <td>[skills, machine, learning, deep, learning, co...</td>\n",
       "      <td>[education, b, tech, computer, science, iit, g...</td>\n",
       "    </tr>\n",
       "    <tr>\n",
       "      <th>...</th>\n",
       "      <td>...</td>\n",
       "      <td>...</td>\n",
       "      <td>...</td>\n",
       "      <td>...</td>\n",
       "      <td>...</td>\n",
       "    </tr>\n",
       "    <tr>\n",
       "      <th>candidate_144.txt</th>\n",
       "      <td>[benjamin, osta, fresher, developer, professio...</td>\n",
       "      <td>[projects, proficient]</td>\n",
       "      <td>None</td>\n",
       "      <td>[skills, software, engineer, software, develop...</td>\n",
       "      <td>None</td>\n",
       "    </tr>\n",
       "    <tr>\n",
       "      <th>candidate_145.txt</th>\n",
       "      <td>[jerome, pelinsky, big, data, analyst, big, da...</td>\n",
       "      <td>None</td>\n",
       "      <td>[experience, handling, kinds, data, also, used...</td>\n",
       "      <td>[skills, big, data, hadoop, hive, python, mapr...</td>\n",
       "      <td>[education, b, tech, electronics, amity, schoo...</td>\n",
       "    </tr>\n",
       "    <tr>\n",
       "      <th>candidate_147.txt</th>\n",
       "      <td>[jaroslav, chechnik, executive, profile, work]</td>\n",
       "      <td>[projects, music, genre, classification, face,...</td>\n",
       "      <td>[experience, looking, job, opportunity, expert...</td>\n",
       "      <td>[skills, b, tech, ece, vit, ap, university, 20...</td>\n",
       "      <td>[education]</td>\n",
       "    </tr>\n",
       "    <tr>\n",
       "      <th>candidate_148.txt</th>\n",
       "      <td>[data, scientist]</td>\n",
       "      <td>[projects, acvaline, daal, lan, el, kx, 1e, mm...</td>\n",
       "      <td>[experience, building, deploying, end, end, an...</td>\n",
       "      <td>[skills, dy, esxoll, alot, dy, ha, wy, val, hv...</td>\n",
       "      <td>[education, b, tech, b, e, computers, rajiv, g...</td>\n",
       "    </tr>\n",
       "    <tr>\n",
       "      <th>candidate_149.txt</th>\n",
       "      <td>[personal, profile, machine, learning, enginee...</td>\n",
       "      <td>[projects, wesbite, using, react, made, fully,...</td>\n",
       "      <td>None</td>\n",
       "      <td>[skills, artificial, intelligence, deep, learn...</td>\n",
       "      <td>[education, b, tech, hit, kancheepuram, chenna...</td>\n",
       "    </tr>\n",
       "  </tbody>\n",
       "</table>\n",
       "<p>90 rows × 5 columns</p>\n",
       "</div>"
      ],
      "text/plain": [
       "                                                            personal  \\\n",
       "candidate_000.txt  [personal, profile, actively, seeking, opportu...   \n",
       "candidate_001.txt  [brianna, williams, junior, developer, executi...   \n",
       "candidate_002.txt  [mason, quadrado, associate, analyst, certifie...   \n",
       "candidate_003.txt                    [associate, software, engineer]   \n",
       "candidate_006.txt  [jennifer, armstrong, computer, vision, enthus...   \n",
       "...                                                              ...   \n",
       "candidate_144.txt  [benjamin, osta, fresher, developer, professio...   \n",
       "candidate_145.txt  [jerome, pelinsky, big, data, analyst, big, da...   \n",
       "candidate_147.txt     [jaroslav, chechnik, executive, profile, work]   \n",
       "candidate_148.txt                                  [data, scientist]   \n",
       "candidate_149.txt  [personal, profile, machine, learning, enginee...   \n",
       "\n",
       "                                                            projects  \\\n",
       "candidate_000.txt  [projects, music, genre, classification, face,...   \n",
       "candidate_001.txt  [projects, also, contribute, knowledge, logica...   \n",
       "candidate_002.txt                                               None   \n",
       "candidate_003.txt  [projects, koy, ok, 1e, im, ge, tena, wal, tur...   \n",
       "candidate_006.txt  [projects, understanding, images, gan, based, ...   \n",
       "...                                                              ...   \n",
       "candidate_144.txt                             [projects, proficient]   \n",
       "candidate_145.txt                                               None   \n",
       "candidate_147.txt  [projects, music, genre, classification, face,...   \n",
       "candidate_148.txt  [projects, acvaline, daal, lan, el, kx, 1e, mm...   \n",
       "candidate_149.txt  [projects, wesbite, using, react, made, fully,...   \n",
       "\n",
       "                                                          experience  \\\n",
       "candidate_000.txt                                               None   \n",
       "candidate_001.txt  [experience, curiosity, driven, data, scientis...   \n",
       "candidate_002.txt  [experience, analyzing, interpreting, data, go...   \n",
       "candidate_003.txt  [experience, software, engineer, machine, lear...   \n",
       "candidate_006.txt  [experience, currently, professional, experience]   \n",
       "...                                                              ...   \n",
       "candidate_144.txt                                               None   \n",
       "candidate_145.txt  [experience, handling, kinds, data, also, used...   \n",
       "candidate_147.txt  [experience, looking, job, opportunity, expert...   \n",
       "candidate_148.txt  [experience, building, deploying, end, end, an...   \n",
       "candidate_149.txt                                               None   \n",
       "\n",
       "                                                              skills  \\\n",
       "candidate_000.txt  [skills, python, sql, mysql, tableau, power, b...   \n",
       "candidate_001.txt  [skills, towards, consistent, growth, developm...   \n",
       "candidate_002.txt  [skills, python, machine, learning, mysql, dat...   \n",
       "candidate_003.txt  [skills, ava, alo, avin, zt, od, al, ms, 1, da...   \n",
       "candidate_006.txt  [skills, machine, learning, deep, learning, co...   \n",
       "...                                                              ...   \n",
       "candidate_144.txt  [skills, software, engineer, software, develop...   \n",
       "candidate_145.txt  [skills, big, data, hadoop, hive, python, mapr...   \n",
       "candidate_147.txt  [skills, b, tech, ece, vit, ap, university, 20...   \n",
       "candidate_148.txt  [skills, dy, esxoll, alot, dy, ha, wy, val, hv...   \n",
       "candidate_149.txt  [skills, artificial, intelligence, deep, learn...   \n",
       "\n",
       "                                                           education  \n",
       "candidate_000.txt  [education, b, tech, ece, vit, ap, university,...  \n",
       "candidate_001.txt  [education, teamwork, bsc, ca, mamco, universi...  \n",
       "candidate_002.txt  [education, b, tech, b, e, electronics, teleco...  \n",
       "candidate_003.txt  [education, b, tech, v, v, 2018, activities, a...  \n",
       "candidate_006.txt  [education, b, tech, computer, science, iit, g...  \n",
       "...                                                              ...  \n",
       "candidate_144.txt                                               None  \n",
       "candidate_145.txt  [education, b, tech, electronics, amity, schoo...  \n",
       "candidate_147.txt                                        [education]  \n",
       "candidate_148.txt  [education, b, tech, b, e, computers, rajiv, g...  \n",
       "candidate_149.txt  [education, b, tech, hit, kancheepuram, chenna...  \n",
       "\n",
       "[90 rows x 5 columns]"
      ]
     },
     "execution_count": 17,
     "metadata": {},
     "output_type": "execute_result"
    }
   ],
   "source": [
    "'''\n",
    "This is how our data looks after Step 2\n",
    "'''\n",
    "df = pd.DataFrame(data, index=indexes, columns=keywords)\n",
    "df"
   ]
  },
  {
   "cell_type": "code",
   "execution_count": 18,
   "metadata": {},
   "outputs": [],
   "source": [
    "'''\n",
    "Lets do the same for our target resume/JD which is assumed to have a score of 1.\n",
    "'''\n",
    "dir = ['Job description.txt']\n",
    "cat, _ = read_txt('./', dir)"
   ]
  },
  {
   "cell_type": "code",
   "execution_count": 19,
   "metadata": {},
   "outputs": [],
   "source": [
    "'''\n",
    "Next step is to transform the words to their glove vector\n",
    "'''\n",
    "embeddings_dict = {}\n",
    "embed_keys = []\n",
    "with open(\"glove.6B.100d.txt\", 'r', encoding=\"utf-8\") as f:\n",
    "    for line in f:\n",
    "        values = line.split()\n",
    "        word = values[0]\n",
    "        embed_keys.append(word)\n",
    "        vector = np.asarray(values[1:], \"float32\")\n",
    "        embeddings_dict[word] = vector"
   ]
  },
  {
   "cell_type": "code",
   "execution_count": 20,
   "metadata": {},
   "outputs": [
    {
     "name": "stdout",
     "output_type": "stream",
     "text": [
      "Total unk tokens 10\n"
     ]
    }
   ],
   "source": [
    "'''\n",
    "Handling unknown tokens and taking the average over each dimension\n",
    "'''\n",
    "jd_vec = {}\n",
    "unks = 0\n",
    "for w in keywords:\n",
    "    vecs = []\n",
    "    for word in cat[w][0]:\n",
    "        if word in embed_keys:\n",
    "            vecs.append(embeddings_dict[word])\n",
    "        else:\n",
    "            unks+=1\n",
    "            vecs.append(embeddings_dict['<unk>'])\n",
    "    vecs = np.array(vecs)\n",
    "    avg = np.average(vecs, axis = 0)\n",
    "    jd_vec[w] = avg\n",
    "\n",
    "print(\"Total unk tokens\" , unks)"
   ]
  },
  {
   "cell_type": "code",
   "execution_count": 21,
   "metadata": {
    "tags": []
   },
   "outputs": [
    {
     "name": "stderr",
     "output_type": "stream",
     "text": [
      "C:\\Users\\sriva\\AppData\\Roaming\\Python\\Python39\\site-packages\\numpy\\lib\\function_base.py:380: RuntimeWarning: Mean of empty slice.\n",
      "  avg = a.mean(axis)\n",
      "C:\\Users\\sriva\\AppData\\Roaming\\Python\\Python39\\site-packages\\numpy\\core\\_methods.py:170: RuntimeWarning: invalid value encountered in double_scalars\n",
      "  ret = ret.dtype.type(ret / rcount)\n"
     ]
    },
    {
     "name": "stdout",
     "output_type": "stream",
     "text": [
      "Total words extracted are  2319\n",
      "Total unk tokens 450\n"
     ]
    }
   ],
   "source": [
    "'''\n",
    "Calculating cosing smilarity for each section of each candidate using JD\n",
    "'''\n",
    "sim_df = []\n",
    "unks=0\n",
    "all_words = []\n",
    "for i in range(len(indexes)):\n",
    "    row = []\n",
    "    for w in keywords:\n",
    "        vecs = []\n",
    "        for word in categories[w][i]:\n",
    "            all_words.append(word)\n",
    "            if word in embed_keys:\n",
    "                vecs.append(embeddings_dict[word])\n",
    "            else:\n",
    "                unks+=1\n",
    "                vecs.append(embeddings_dict['<unk>'])\n",
    "        vecs = np.array(vecs)\n",
    "        va = np.average(vecs, axis = 0)\n",
    "        cosine = None\n",
    "        if np.isnan(va).any():\n",
    "            cosine = 0\n",
    "        else:\n",
    "            vb = jd_vec[w]\n",
    "            cosine = dot(va,vb)/(norm(va)*norm(vb))\n",
    "        \n",
    "        row.append(cosine)\n",
    "    \n",
    "    sim_df.append(row)\n",
    "\n",
    "all_words = set(all_words)\n",
    "print(\"Total words extracted are \", len(all_words))\n",
    "print(\"Total unk tokens\" , unks)"
   ]
  },
  {
   "cell_type": "code",
   "execution_count": 22,
   "metadata": {},
   "outputs": [
    {
     "data": {
      "text/html": [
       "<div>\n",
       "<style scoped>\n",
       "    .dataframe tbody tr th:only-of-type {\n",
       "        vertical-align: middle;\n",
       "    }\n",
       "\n",
       "    .dataframe tbody tr th {\n",
       "        vertical-align: top;\n",
       "    }\n",
       "\n",
       "    .dataframe thead th {\n",
       "        text-align: right;\n",
       "    }\n",
       "</style>\n",
       "<table border=\"1\" class=\"dataframe\">\n",
       "  <thead>\n",
       "    <tr style=\"text-align: right;\">\n",
       "      <th></th>\n",
       "      <th>personal</th>\n",
       "      <th>projects</th>\n",
       "      <th>experience</th>\n",
       "      <th>skills</th>\n",
       "      <th>education</th>\n",
       "    </tr>\n",
       "  </thead>\n",
       "  <tbody>\n",
       "    <tr>\n",
       "      <th>candidate_000.txt</th>\n",
       "      <td>0.888378</td>\n",
       "      <td>0.295928</td>\n",
       "      <td>0.415252</td>\n",
       "      <td>0.636419</td>\n",
       "      <td>0.856955</td>\n",
       "    </tr>\n",
       "    <tr>\n",
       "      <th>candidate_001.txt</th>\n",
       "      <td>0.610979</td>\n",
       "      <td>0.234160</td>\n",
       "      <td>0.776972</td>\n",
       "      <td>0.762761</td>\n",
       "      <td>0.882273</td>\n",
       "    </tr>\n",
       "    <tr>\n",
       "      <th>candidate_002.txt</th>\n",
       "      <td>0.668103</td>\n",
       "      <td>1.000000</td>\n",
       "      <td>0.620666</td>\n",
       "      <td>0.924627</td>\n",
       "      <td>0.754305</td>\n",
       "    </tr>\n",
       "    <tr>\n",
       "      <th>candidate_003.txt</th>\n",
       "      <td>0.694706</td>\n",
       "      <td>0.378404</td>\n",
       "      <td>0.694232</td>\n",
       "      <td>0.825477</td>\n",
       "      <td>0.770898</td>\n",
       "    </tr>\n",
       "    <tr>\n",
       "      <th>candidate_006.txt</th>\n",
       "      <td>0.906714</td>\n",
       "      <td>0.300554</td>\n",
       "      <td>0.769333</td>\n",
       "      <td>0.881404</td>\n",
       "      <td>0.773082</td>\n",
       "    </tr>\n",
       "    <tr>\n",
       "      <th>...</th>\n",
       "      <td>...</td>\n",
       "      <td>...</td>\n",
       "      <td>...</td>\n",
       "      <td>...</td>\n",
       "      <td>...</td>\n",
       "    </tr>\n",
       "    <tr>\n",
       "      <th>candidate_144.txt</th>\n",
       "      <td>0.900714</td>\n",
       "      <td>0.164987</td>\n",
       "      <td>0.415252</td>\n",
       "      <td>0.853482</td>\n",
       "      <td>0.393262</td>\n",
       "    </tr>\n",
       "    <tr>\n",
       "      <th>candidate_145.txt</th>\n",
       "      <td>0.738020</td>\n",
       "      <td>1.000000</td>\n",
       "      <td>0.758193</td>\n",
       "      <td>0.920389</td>\n",
       "      <td>0.725882</td>\n",
       "    </tr>\n",
       "    <tr>\n",
       "      <th>candidate_147.txt</th>\n",
       "      <td>0.576090</td>\n",
       "      <td>0.273347</td>\n",
       "      <td>0.758924</td>\n",
       "      <td>0.730275</td>\n",
       "      <td>0.708900</td>\n",
       "    </tr>\n",
       "    <tr>\n",
       "      <th>candidate_148.txt</th>\n",
       "      <td>0.698836</td>\n",
       "      <td>0.395247</td>\n",
       "      <td>0.733054</td>\n",
       "      <td>0.694591</td>\n",
       "      <td>0.529111</td>\n",
       "    </tr>\n",
       "    <tr>\n",
       "      <th>candidate_149.txt</th>\n",
       "      <td>0.872008</td>\n",
       "      <td>0.358750</td>\n",
       "      <td>0.415252</td>\n",
       "      <td>0.663939</td>\n",
       "      <td>0.740257</td>\n",
       "    </tr>\n",
       "  </tbody>\n",
       "</table>\n",
       "<p>90 rows × 5 columns</p>\n",
       "</div>"
      ],
      "text/plain": [
       "                   personal  projects  experience    skills  education\n",
       "candidate_000.txt  0.888378  0.295928    0.415252  0.636419   0.856955\n",
       "candidate_001.txt  0.610979  0.234160    0.776972  0.762761   0.882273\n",
       "candidate_002.txt  0.668103  1.000000    0.620666  0.924627   0.754305\n",
       "candidate_003.txt  0.694706  0.378404    0.694232  0.825477   0.770898\n",
       "candidate_006.txt  0.906714  0.300554    0.769333  0.881404   0.773082\n",
       "...                     ...       ...         ...       ...        ...\n",
       "candidate_144.txt  0.900714  0.164987    0.415252  0.853482   0.393262\n",
       "candidate_145.txt  0.738020  1.000000    0.758193  0.920389   0.725882\n",
       "candidate_147.txt  0.576090  0.273347    0.758924  0.730275   0.708900\n",
       "candidate_148.txt  0.698836  0.395247    0.733054  0.694591   0.529111\n",
       "candidate_149.txt  0.872008  0.358750    0.415252  0.663939   0.740257\n",
       "\n",
       "[90 rows x 5 columns]"
      ]
     },
     "execution_count": 22,
     "metadata": {},
     "output_type": "execute_result"
    }
   ],
   "source": [
    "'''\n",
    "This is how our data looks after calculating 5 section similarity with the JD\n",
    "'''\n",
    "# Similartiy Table\n",
    "similariy = pd.DataFrame(sim_df, index=indexes, columns=keywords)\n",
    "similariy"
   ]
  },
  {
   "cell_type": "code",
   "execution_count": 14,
   "metadata": {},
   "outputs": [],
   "source": [
    "similariy.fillna(0, inplace=True)"
   ]
  },
  {
   "cell_type": "code",
   "execution_count": 23,
   "metadata": {},
   "outputs": [],
   "source": [
    "xs = np.array(similariy)"
   ]
  },
  {
   "cell_type": "markdown",
   "metadata": {},
   "source": [
    "#### Test Data"
   ]
  },
  {
   "cell_type": "code",
   "execution_count": 26,
   "metadata": {},
   "outputs": [
    {
     "data": {
      "text/html": [
       "<div>\n",
       "<style scoped>\n",
       "    .dataframe tbody tr th:only-of-type {\n",
       "        vertical-align: middle;\n",
       "    }\n",
       "\n",
       "    .dataframe tbody tr th {\n",
       "        vertical-align: top;\n",
       "    }\n",
       "\n",
       "    .dataframe thead th {\n",
       "        text-align: right;\n",
       "    }\n",
       "</style>\n",
       "<table border=\"1\" class=\"dataframe\">\n",
       "  <thead>\n",
       "    <tr style=\"text-align: right;\">\n",
       "      <th></th>\n",
       "      <th>Match Percentage</th>\n",
       "    </tr>\n",
       "    <tr>\n",
       "      <th>CandidateID</th>\n",
       "      <th></th>\n",
       "    </tr>\n",
       "  </thead>\n",
       "  <tbody>\n",
       "    <tr>\n",
       "      <th>candidate_011</th>\n",
       "      <td>13.60</td>\n",
       "    </tr>\n",
       "    <tr>\n",
       "      <th>candidate_113</th>\n",
       "      <td>36.63</td>\n",
       "    </tr>\n",
       "    <tr>\n",
       "      <th>candidate_123</th>\n",
       "      <td>54.93</td>\n",
       "    </tr>\n",
       "    <tr>\n",
       "      <th>candidate_012</th>\n",
       "      <td>41.46</td>\n",
       "    </tr>\n",
       "    <tr>\n",
       "      <th>candidate_002</th>\n",
       "      <td>48.91</td>\n",
       "    </tr>\n",
       "  </tbody>\n",
       "</table>\n",
       "</div>"
      ],
      "text/plain": [
       "               Match Percentage\n",
       "CandidateID                    \n",
       "candidate_011             13.60\n",
       "candidate_113             36.63\n",
       "candidate_123             54.93\n",
       "candidate_012             41.46\n",
       "candidate_002             48.91"
      ]
     },
     "execution_count": 26,
     "metadata": {},
     "output_type": "execute_result"
    }
   ],
   "source": [
    "target = pd.read_csv('./dataset/train.csv', index_col='CandidateID')\n",
    "target.head()"
   ]
  },
  {
   "cell_type": "code",
   "execution_count": 27,
   "metadata": {
    "tags": []
   },
   "outputs": [],
   "source": [
    "ys = []\n",
    "for i in indexes:\n",
    "    ys.append(target.loc[i[:-4]]['Match Percentage']/100)\n",
    "ys = np.array(ys, dtype = np.float32)"
   ]
  },
  {
   "cell_type": "code",
   "execution_count": 28,
   "metadata": {},
   "outputs": [
    {
     "name": "stdout",
     "output_type": "stream",
     "text": [
      "(90, 5)\n",
      "(90,)\n"
     ]
    }
   ],
   "source": [
    "xs = xs.astype(np.float32)\n",
    "ys = ys.astype(np.float32)\n",
    "print(xs.shape)\n",
    "print(ys.shape)"
   ]
  },
  {
   "cell_type": "markdown",
   "metadata": {},
   "source": [
    "<h3>Now we have caluclated cosines and we will feed it to our neural network</h3>"
   ]
  },
  {
   "cell_type": "code",
   "execution_count": 20,
   "metadata": {},
   "outputs": [],
   "source": [
    "from sklearn.model_selection import train_test_split\n",
    "X_train, X_test, y_train, y_test = train_test_split(xs, ys, test_size = 0.1, random_state = 42)"
   ]
  },
  {
   "cell_type": "code",
   "execution_count": 21,
   "metadata": {},
   "outputs": [],
   "source": [
    "from keras.models import Sequential, Model\n",
    "from keras.layers import Dense , Dropout, Activation\n"
   ]
  },
  {
   "cell_type": "code",
   "execution_count": 22,
   "metadata": {},
   "outputs": [],
   "source": [
    "'''\n",
    "Building and Training Model\n",
    "'''\n",
    "def build_model():\n",
    "    model = Sequential()\n",
    "    model.add(Dense(8, input_shape =[5,]))\n",
    "    model.add(Dense(8))\n",
    "    model.add(Dense(1))\n",
    "    model.compile(optimizer='rmsprop', loss='mse', metrics =['mse'])\n",
    "    return model"
   ]
  },
  {
   "cell_type": "code",
   "execution_count": 23,
   "metadata": {},
   "outputs": [
    {
     "name": "stdout",
     "output_type": "stream",
     "text": [
      "Model: \"sequential\"\n",
      "_________________________________________________________________\n",
      "Layer (type)                 Output Shape              Param #   \n",
      "=================================================================\n",
      "dense (Dense)                (None, 8)                 48        \n",
      "_________________________________________________________________\n",
      "dense_1 (Dense)              (None, 8)                 72        \n",
      "_________________________________________________________________\n",
      "dense_2 (Dense)              (None, 1)                 9         \n",
      "=================================================================\n",
      "Total params: 129\n",
      "Trainable params: 129\n",
      "Non-trainable params: 0\n",
      "_________________________________________________________________\n"
     ]
    }
   ],
   "source": [
    "model = build_model()\n",
    "model.summary()"
   ]
  },
  {
   "cell_type": "code",
   "execution_count": 24,
   "metadata": {},
   "outputs": [
    {
     "name": "stdout",
     "output_type": "stream",
     "text": [
      "Epoch 1/100\n",
      "3/3 [==============================] - 3s 146ms/step - loss: 0.8432 - mse: 0.8432 - val_loss: 0.7007 - val_mse: 0.7007\n",
      "Epoch 2/100\n",
      "3/3 [==============================] - 0s 37ms/step - loss: 0.5713 - mse: 0.5713 - val_loss: 0.5889 - val_mse: 0.5889\n",
      "Epoch 3/100\n",
      "3/3 [==============================] - 0s 41ms/step - loss: 0.4523 - mse: 0.4523 - val_loss: 0.5309 - val_mse: 0.5309\n",
      "Epoch 4/100\n",
      "3/3 [==============================] - 0s 30ms/step - loss: 0.3858 - mse: 0.3858 - val_loss: 0.4918 - val_mse: 0.4918\n",
      "Epoch 5/100\n",
      "3/3 [==============================] - 0s 35ms/step - loss: 0.3401 - mse: 0.3401 - val_loss: 0.4664 - val_mse: 0.4664\n",
      "Epoch 6/100\n",
      "3/3 [==============================] - 0s 37ms/step - loss: 0.3108 - mse: 0.3108 - val_loss: 0.4479 - val_mse: 0.4479\n",
      "Epoch 7/100\n",
      "3/3 [==============================] - 0s 30ms/step - loss: 0.2898 - mse: 0.2898 - val_loss: 0.4330 - val_mse: 0.4330\n",
      "Epoch 8/100\n",
      "3/3 [==============================] - 0s 40ms/step - loss: 0.2775 - mse: 0.2775 - val_loss: 0.4166 - val_mse: 0.4166\n",
      "Epoch 9/100\n",
      "3/3 [==============================] - 0s 34ms/step - loss: 0.2616 - mse: 0.2616 - val_loss: 0.4046 - val_mse: 0.4046\n",
      "Epoch 10/100\n",
      "3/3 [==============================] - 0s 34ms/step - loss: 0.2484 - mse: 0.2484 - val_loss: 0.3900 - val_mse: 0.3900\n",
      "Epoch 11/100\n",
      "3/3 [==============================] - 0s 32ms/step - loss: 0.2377 - mse: 0.2377 - val_loss: 0.3813 - val_mse: 0.3813\n",
      "Epoch 12/100\n",
      "3/3 [==============================] - 0s 34ms/step - loss: 0.2269 - mse: 0.2269 - val_loss: 0.3705 - val_mse: 0.3705\n",
      "Epoch 13/100\n",
      "3/3 [==============================] - 0s 36ms/step - loss: 0.2190 - mse: 0.2190 - val_loss: 0.3512 - val_mse: 0.3512\n",
      "Epoch 14/100\n",
      "3/3 [==============================] - 0s 65ms/step - loss: 0.2079 - mse: 0.2079 - val_loss: 0.3393 - val_mse: 0.3393\n",
      "Epoch 15/100\n",
      "3/3 [==============================] - 0s 36ms/step - loss: 0.1986 - mse: 0.1986 - val_loss: 0.3259 - val_mse: 0.3259\n",
      "Epoch 16/100\n",
      "3/3 [==============================] - 0s 34ms/step - loss: 0.1910 - mse: 0.1910 - val_loss: 0.3135 - val_mse: 0.3135\n",
      "Epoch 17/100\n",
      "3/3 [==============================] - 0s 36ms/step - loss: 0.1802 - mse: 0.1802 - val_loss: 0.3005 - val_mse: 0.3005\n",
      "Epoch 18/100\n",
      "3/3 [==============================] - 0s 42ms/step - loss: 0.1718 - mse: 0.1718 - val_loss: 0.2883 - val_mse: 0.2883\n",
      "Epoch 19/100\n",
      "3/3 [==============================] - 0s 36ms/step - loss: 0.1633 - mse: 0.1633 - val_loss: 0.2768 - val_mse: 0.2768\n",
      "Epoch 20/100\n",
      "3/3 [==============================] - 0s 38ms/step - loss: 0.1559 - mse: 0.1559 - val_loss: 0.2642 - val_mse: 0.2642\n",
      "Epoch 21/100\n",
      "3/3 [==============================] - 0s 39ms/step - loss: 0.1460 - mse: 0.1460 - val_loss: 0.2537 - val_mse: 0.2537\n",
      "Epoch 22/100\n",
      "3/3 [==============================] - 0s 33ms/step - loss: 0.1380 - mse: 0.1380 - val_loss: 0.2459 - val_mse: 0.2459\n",
      "Epoch 23/100\n",
      "3/3 [==============================] - 0s 38ms/step - loss: 0.1325 - mse: 0.1325 - val_loss: 0.2336 - val_mse: 0.2336\n",
      "Epoch 24/100\n",
      "3/3 [==============================] - 0s 36ms/step - loss: 0.1236 - mse: 0.1236 - val_loss: 0.2270 - val_mse: 0.2270\n",
      "Epoch 25/100\n",
      "3/3 [==============================] - 0s 37ms/step - loss: 0.1175 - mse: 0.1175 - val_loss: 0.2177 - val_mse: 0.2177\n",
      "Epoch 26/100\n",
      "3/3 [==============================] - 0s 38ms/step - loss: 0.1100 - mse: 0.1100 - val_loss: 0.2059 - val_mse: 0.2059\n",
      "Epoch 27/100\n",
      "3/3 [==============================] - 0s 36ms/step - loss: 0.1050 - mse: 0.1050 - val_loss: 0.2057 - val_mse: 0.2057\n",
      "Epoch 28/100\n",
      "3/3 [==============================] - 0s 34ms/step - loss: 0.0989 - mse: 0.0989 - val_loss: 0.1830 - val_mse: 0.1830\n",
      "Epoch 29/100\n",
      "3/3 [==============================] - 0s 42ms/step - loss: 0.0929 - mse: 0.0929 - val_loss: 0.1747 - val_mse: 0.1747\n",
      "Epoch 30/100\n",
      "3/3 [==============================] - 0s 41ms/step - loss: 0.0869 - mse: 0.0869 - val_loss: 0.1743 - val_mse: 0.1743\n",
      "Epoch 31/100\n",
      "3/3 [==============================] - 0s 39ms/step - loss: 0.0822 - mse: 0.0822 - val_loss: 0.1567 - val_mse: 0.1567\n",
      "Epoch 32/100\n",
      "3/3 [==============================] - 0s 42ms/step - loss: 0.0770 - mse: 0.0770 - val_loss: 0.1488 - val_mse: 0.1488\n",
      "Epoch 33/100\n",
      "3/3 [==============================] - 0s 38ms/step - loss: 0.0733 - mse: 0.0733 - val_loss: 0.1454 - val_mse: 0.1454\n",
      "Epoch 34/100\n",
      "3/3 [==============================] - 0s 41ms/step - loss: 0.0674 - mse: 0.0674 - val_loss: 0.1390 - val_mse: 0.1390\n",
      "Epoch 35/100\n",
      "3/3 [==============================] - 0s 33ms/step - loss: 0.0638 - mse: 0.0638 - val_loss: 0.1247 - val_mse: 0.1247\n",
      "Epoch 36/100\n",
      "3/3 [==============================] - 0s 38ms/step - loss: 0.0603 - mse: 0.0603 - val_loss: 0.1248 - val_mse: 0.1248\n",
      "Epoch 37/100\n",
      "3/3 [==============================] - 0s 35ms/step - loss: 0.0556 - mse: 0.0556 - val_loss: 0.1185 - val_mse: 0.1185\n",
      "Epoch 38/100\n",
      "3/3 [==============================] - 0s 34ms/step - loss: 0.0526 - mse: 0.0526 - val_loss: 0.1122 - val_mse: 0.1122\n",
      "Epoch 39/100\n",
      "3/3 [==============================] - 0s 32ms/step - loss: 0.0492 - mse: 0.0492 - val_loss: 0.1035 - val_mse: 0.1035\n",
      "Epoch 40/100\n",
      "3/3 [==============================] - 0s 40ms/step - loss: 0.0478 - mse: 0.0478 - val_loss: 0.1002 - val_mse: 0.1002\n",
      "Epoch 41/100\n",
      "3/3 [==============================] - 0s 45ms/step - loss: 0.0431 - mse: 0.0431 - val_loss: 0.1014 - val_mse: 0.1014\n",
      "Epoch 42/100\n",
      "3/3 [==============================] - 0s 40ms/step - loss: 0.0421 - mse: 0.0421 - val_loss: 0.1076 - val_mse: 0.1076\n",
      "Epoch 43/100\n",
      "3/3 [==============================] - 0s 43ms/step - loss: 0.0397 - mse: 0.0397 - val_loss: 0.0890 - val_mse: 0.0890\n",
      "Epoch 44/100\n",
      "3/3 [==============================] - 0s 37ms/step - loss: 0.0362 - mse: 0.0362 - val_loss: 0.0893 - val_mse: 0.0893\n",
      "Epoch 45/100\n",
      "3/3 [==============================] - 0s 39ms/step - loss: 0.0346 - mse: 0.0346 - val_loss: 0.0838 - val_mse: 0.0838\n",
      "Epoch 46/100\n",
      "3/3 [==============================] - 0s 36ms/step - loss: 0.0324 - mse: 0.0324 - val_loss: 0.0751 - val_mse: 0.0751\n",
      "Epoch 47/100\n",
      "3/3 [==============================] - 0s 41ms/step - loss: 0.0319 - mse: 0.0319 - val_loss: 0.0767 - val_mse: 0.0767\n",
      "Epoch 48/100\n",
      "3/3 [==============================] - 0s 36ms/step - loss: 0.0298 - mse: 0.0298 - val_loss: 0.0748 - val_mse: 0.0748\n",
      "Epoch 49/100\n",
      "3/3 [==============================] - 0s 39ms/step - loss: 0.0284 - mse: 0.0284 - val_loss: 0.0703 - val_mse: 0.0703\n",
      "Epoch 50/100\n",
      "3/3 [==============================] - 0s 36ms/step - loss: 0.0276 - mse: 0.0276 - val_loss: 0.0588 - val_mse: 0.0588\n",
      "Epoch 51/100\n",
      "3/3 [==============================] - 0s 38ms/step - loss: 0.0272 - mse: 0.0272 - val_loss: 0.0564 - val_mse: 0.0564\n",
      "Epoch 52/100\n",
      "3/3 [==============================] - 0s 43ms/step - loss: 0.0253 - mse: 0.0253 - val_loss: 0.0728 - val_mse: 0.0728\n",
      "Epoch 53/100\n",
      "3/3 [==============================] - 0s 31ms/step - loss: 0.0259 - mse: 0.0259 - val_loss: 0.0615 - val_mse: 0.0615\n",
      "Epoch 54/100\n",
      "3/3 [==============================] - 0s 56ms/step - loss: 0.0241 - mse: 0.0241 - val_loss: 0.0601 - val_mse: 0.0601\n",
      "Epoch 55/100\n",
      "3/3 [==============================] - 0s 34ms/step - loss: 0.0237 - mse: 0.0237 - val_loss: 0.0476 - val_mse: 0.0476\n",
      "Epoch 56/100\n",
      "3/3 [==============================] - 0s 38ms/step - loss: 0.0235 - mse: 0.0235 - val_loss: 0.0534 - val_mse: 0.0534\n",
      "Epoch 57/100\n",
      "3/3 [==============================] - 0s 34ms/step - loss: 0.0229 - mse: 0.0229 - val_loss: 0.0547 - val_mse: 0.0547\n",
      "Epoch 58/100\n",
      "3/3 [==============================] - 0s 35ms/step - loss: 0.0223 - mse: 0.0223 - val_loss: 0.0461 - val_mse: 0.0461\n",
      "Epoch 59/100\n",
      "3/3 [==============================] - 0s 34ms/step - loss: 0.0221 - mse: 0.0221 - val_loss: 0.0434 - val_mse: 0.0434\n",
      "Epoch 60/100\n",
      "3/3 [==============================] - 0s 35ms/step - loss: 0.0220 - mse: 0.0220 - val_loss: 0.0625 - val_mse: 0.0625\n",
      "Epoch 61/100\n",
      "3/3 [==============================] - 0s 40ms/step - loss: 0.0237 - mse: 0.0237 - val_loss: 0.0517 - val_mse: 0.0517\n",
      "Epoch 62/100\n",
      "3/3 [==============================] - 0s 38ms/step - loss: 0.0222 - mse: 0.0222 - val_loss: 0.0479 - val_mse: 0.0479\n",
      "Epoch 63/100\n",
      "3/3 [==============================] - 0s 34ms/step - loss: 0.0217 - mse: 0.0217 - val_loss: 0.0367 - val_mse: 0.0367\n",
      "Epoch 64/100\n",
      "3/3 [==============================] - 0s 39ms/step - loss: 0.0225 - mse: 0.0225 - val_loss: 0.0521 - val_mse: 0.0521\n",
      "Epoch 65/100\n",
      "3/3 [==============================] - 0s 33ms/step - loss: 0.0234 - mse: 0.0234 - val_loss: 0.0445 - val_mse: 0.0445\n",
      "Epoch 66/100\n",
      "3/3 [==============================] - 0s 41ms/step - loss: 0.0216 - mse: 0.0216 - val_loss: 0.0399 - val_mse: 0.0399\n",
      "Epoch 67/100\n",
      "3/3 [==============================] - 0s 37ms/step - loss: 0.0219 - mse: 0.0219 - val_loss: 0.0371 - val_mse: 0.0371\n",
      "Epoch 68/100\n",
      "3/3 [==============================] - 0s 33ms/step - loss: 0.0249 - mse: 0.0249 - val_loss: 0.0446 - val_mse: 0.0446\n",
      "Epoch 69/100\n",
      "3/3 [==============================] - 0s 35ms/step - loss: 0.0222 - mse: 0.0222 - val_loss: 0.0514 - val_mse: 0.0514\n",
      "Epoch 70/100\n",
      "3/3 [==============================] - 0s 40ms/step - loss: 0.0217 - mse: 0.0217 - val_loss: 0.0398 - val_mse: 0.0398\n",
      "Epoch 71/100\n",
      "3/3 [==============================] - 0s 38ms/step - loss: 0.0218 - mse: 0.0218 - val_loss: 0.0460 - val_mse: 0.0460\n",
      "Epoch 72/100\n",
      "3/3 [==============================] - 0s 36ms/step - loss: 0.0221 - mse: 0.0221 - val_loss: 0.0406 - val_mse: 0.0406\n",
      "Epoch 73/100\n",
      "3/3 [==============================] - 0s 32ms/step - loss: 0.0216 - mse: 0.0216 - val_loss: 0.0482 - val_mse: 0.0482\n",
      "Epoch 74/100\n",
      "3/3 [==============================] - 0s 31ms/step - loss: 0.0217 - mse: 0.0217 - val_loss: 0.0423 - val_mse: 0.0423\n",
      "Epoch 75/100\n",
      "3/3 [==============================] - 0s 37ms/step - loss: 0.0216 - mse: 0.0216 - val_loss: 0.0448 - val_mse: 0.0448\n",
      "Epoch 76/100\n",
      "3/3 [==============================] - 0s 39ms/step - loss: 0.0230 - mse: 0.0230 - val_loss: 0.0430 - val_mse: 0.0430\n",
      "Epoch 77/100\n",
      "3/3 [==============================] - 0s 48ms/step - loss: 0.0218 - mse: 0.0218 - val_loss: 0.0509 - val_mse: 0.0509\n",
      "Epoch 78/100\n",
      "3/3 [==============================] - 0s 46ms/step - loss: 0.0219 - mse: 0.0219 - val_loss: 0.0483 - val_mse: 0.0483\n",
      "Epoch 79/100\n",
      "3/3 [==============================] - 0s 27ms/step - loss: 0.0222 - mse: 0.0222 - val_loss: 0.0381 - val_mse: 0.0381\n",
      "Epoch 80/100\n",
      "3/3 [==============================] - 0s 33ms/step - loss: 0.0219 - mse: 0.0219 - val_loss: 0.0369 - val_mse: 0.0369\n",
      "Epoch 81/100\n",
      "3/3 [==============================] - 0s 37ms/step - loss: 0.0224 - mse: 0.0224 - val_loss: 0.0388 - val_mse: 0.0388\n",
      "Epoch 82/100\n",
      "3/3 [==============================] - 0s 35ms/step - loss: 0.0220 - mse: 0.0220 - val_loss: 0.0382 - val_mse: 0.0382\n",
      "Epoch 83/100\n",
      "3/3 [==============================] - 0s 39ms/step - loss: 0.0214 - mse: 0.0214 - val_loss: 0.0574 - val_mse: 0.0574\n",
      "Epoch 84/100\n",
      "3/3 [==============================] - 0s 42ms/step - loss: 0.0217 - mse: 0.0217 - val_loss: 0.0335 - val_mse: 0.0335\n",
      "Epoch 85/100\n",
      "3/3 [==============================] - 0s 30ms/step - loss: 0.0230 - mse: 0.0230 - val_loss: 0.0357 - val_mse: 0.0357\n",
      "Epoch 86/100\n",
      "3/3 [==============================] - 0s 36ms/step - loss: 0.0218 - mse: 0.0218 - val_loss: 0.0487 - val_mse: 0.0487\n",
      "Epoch 87/100\n",
      "3/3 [==============================] - 0s 38ms/step - loss: 0.0227 - mse: 0.0227 - val_loss: 0.0476 - val_mse: 0.0476\n",
      "Epoch 88/100\n",
      "3/3 [==============================] - 0s 44ms/step - loss: 0.0216 - mse: 0.0216 - val_loss: 0.0434 - val_mse: 0.0434\n",
      "Epoch 89/100\n",
      "3/3 [==============================] - 0s 35ms/step - loss: 0.0216 - mse: 0.0216 - val_loss: 0.0421 - val_mse: 0.0421\n",
      "Epoch 90/100\n",
      "3/3 [==============================] - 0s 40ms/step - loss: 0.0215 - mse: 0.0215 - val_loss: 0.0548 - val_mse: 0.0548\n",
      "Epoch 91/100\n",
      "3/3 [==============================] - 0s 42ms/step - loss: 0.0232 - mse: 0.0232 - val_loss: 0.0556 - val_mse: 0.0556\n",
      "Epoch 92/100\n",
      "3/3 [==============================] - 0s 41ms/step - loss: 0.0220 - mse: 0.0220 - val_loss: 0.0357 - val_mse: 0.0357\n",
      "Epoch 93/100\n",
      "3/3 [==============================] - 0s 36ms/step - loss: 0.0224 - mse: 0.0224 - val_loss: 0.0356 - val_mse: 0.0356\n",
      "Epoch 94/100\n",
      "3/3 [==============================] - 0s 43ms/step - loss: 0.0218 - mse: 0.0218 - val_loss: 0.0509 - val_mse: 0.0509\n",
      "Epoch 95/100\n",
      "3/3 [==============================] - 0s 36ms/step - loss: 0.0218 - mse: 0.0218 - val_loss: 0.0426 - val_mse: 0.0426\n",
      "Epoch 96/100\n",
      "3/3 [==============================] - 0s 39ms/step - loss: 0.0219 - mse: 0.0219 - val_loss: 0.0339 - val_mse: 0.0339\n",
      "Epoch 97/100\n",
      "3/3 [==============================] - 0s 34ms/step - loss: 0.0228 - mse: 0.0228 - val_loss: 0.0459 - val_mse: 0.0459\n",
      "Epoch 98/100\n",
      "3/3 [==============================] - 0s 34ms/step - loss: 0.0224 - mse: 0.0224 - val_loss: 0.0484 - val_mse: 0.0484\n",
      "Epoch 99/100\n",
      "3/3 [==============================] - 0s 28ms/step - loss: 0.0214 - mse: 0.0214 - val_loss: 0.0367 - val_mse: 0.0367\n",
      "Epoch 100/100\n",
      "3/3 [==============================] - 0s 42ms/step - loss: 0.0218 - mse: 0.0218 - val_loss: 0.0468 - val_mse: 0.0468\n"
     ]
    }
   ],
   "source": [
    "history = model.fit(X_train,y_train, epochs=100,validation_data=(X_test,y_test))"
   ]
  },
  {
   "cell_type": "markdown",
   "metadata": {},
   "source": [
    "<h3><b>Training Results</b></h3>\n",
    "<h3>Loss - 0.02 <br>\n",
    " MSE - 0.02 </h3>\n"
   ]
  },
  {
   "cell_type": "code",
   "execution_count": 25,
   "metadata": {},
   "outputs": [
    {
     "data": {
      "image/png": "[encoded data removed]",
      "text/plain": [
       "<Figure size 432x288 with 1 Axes>"
      ]
     },
     "metadata": {
      "needs_background": "light"
     },
     "output_type": "display_data"
    }
   ],
   "source": [
    "import matplotlib.pyplot as plt\n",
    "plt.plot(history.history['mse'])\n",
    "plt.plot(history.history['val_mse'])\n",
    "plt.title('model accuracy')\n",
    "plt.ylabel('accuracy')\n",
    "plt.xlabel('epoch')\n",
    "plt.legend(['train', 'test'], loc='upper left')\n",
    "plt.show()"
   ]
  },
  {
   "cell_type": "code",
   "execution_count": 30,
   "metadata": {},
   "outputs": [],
   "source": [
    "#Testing\n",
    "dir = os.listdir('./test_txt/')\n",
    "test_cat, test_index = read_txt('./test_txt/',dir)"
   ]
  },
  {
   "cell_type": "code",
   "execution_count": 31,
   "metadata": {},
   "outputs": [
    {
     "name": "stderr",
     "output_type": "stream",
     "text": [
      "C:\\Users\\sriva\\AppData\\Roaming\\Python\\Python39\\site-packages\\numpy\\lib\\function_base.py:380: RuntimeWarning: Mean of empty slice.\n",
      "  avg = a.mean(axis)\n",
      "C:\\Users\\sriva\\AppData\\Roaming\\Python\\Python39\\site-packages\\numpy\\core\\_methods.py:170: RuntimeWarning: invalid value encountered in double_scalars\n",
      "  ret = ret.dtype.type(ret / rcount)\n"
     ]
    }
   ],
   "source": [
    "'''\n",
    "Performing Tests and Calculating Score\n",
    "'''\n",
    "test_df = []\n",
    "for i in range(len(test_index)):\n",
    "    row = []\n",
    "    for w in keywords:\n",
    "        vecs = []\n",
    "        for word in test_cat[w][i]:\n",
    "            if word in embed_keys:\n",
    "                vecs.append(embeddings_dict[word])\n",
    "            else:\n",
    "                vecs.append(embeddings_dict['<unk>'])\n",
    "        vecs = np.array(vecs)\n",
    "        va = np.average(vecs, axis = 0)\n",
    "        cosine = None\n",
    "        if np.isnan(va).any():\n",
    "            cosine = 0\n",
    "        else:\n",
    "            vb = jd_vec[w]\n",
    "            cosine = dot(va,vb)/(norm(va)*norm(vb))\n",
    "        \n",
    "        row.append(cosine)\n",
    "    \n",
    "    test_df.append(row)"
   ]
  },
  {
   "cell_type": "code",
   "execution_count": 32,
   "metadata": {},
   "outputs": [
    {
     "name": "stdout",
     "output_type": "stream",
     "text": [
      "<class 'pandas.core.frame.DataFrame'>\n",
      "Index: 60 entries, candidate_004.txt to candidate_146.txt\n",
      "Data columns (total 5 columns):\n",
      " #   Column      Non-Null Count  Dtype  \n",
      "---  ------      --------------  -----  \n",
      " 0   personal    60 non-null     float64\n",
      " 1   projects    60 non-null     float32\n",
      " 2   experience  60 non-null     float32\n",
      " 3   skills      60 non-null     float32\n",
      " 4   education   60 non-null     float32\n",
      "dtypes: float32(4), float64(1)\n",
      "memory usage: 1.9+ KB\n"
     ]
    }
   ],
   "source": [
    "test_sim = pd.DataFrame(test_df, index=test_index, columns=keywords)\n",
    "test_sim.info()"
   ]
  },
  {
   "cell_type": "code",
   "execution_count": 33,
   "metadata": {},
   "outputs": [
    {
     "name": "stdout",
     "output_type": "stream",
     "text": [
      "(60, 5)\n"
     ]
    }
   ],
   "source": [
    "txs = np.array(test_sim)\n",
    "print(txs.shape)"
   ]
  },
  {
   "cell_type": "code",
   "execution_count": 72,
   "metadata": {},
   "outputs": [],
   "source": [
    "ans = model.predict(txs)\n",
    "ans = np.reshape(ans, (ans.shape[0],1))\n",
    "ans = ans*100 "
   ]
  },
  {
   "cell_type": "code",
   "execution_count": 35,
   "metadata": {},
   "outputs": [],
   "source": [
    "def write(ans,test_index):\n",
    "    ans = np.reshape(ans, (ans.shape[0],1))\n",
    "    ans_index = np.array([x[:-4] for x in test_index])\n",
    "    ans_index = np.reshape(np.ravel(ans_index) , ans.shape)\n",
    "    ans = np.concatenate([ans_index,ans] , axis = 1)\n",
    "    ans_df = pd.DataFrame(ans, index=None, columns=['CandidateID','Match Percentage'])\n",
    "    print(\"Written new file\")\n",
    "    ans_df.to_csv('submission.csv',index=None)\n"
   ]
  },
  {
   "cell_type": "markdown",
   "metadata": {},
   "source": [
    "<h3>RESULTS</h3>\n",
    "<img src=\"https://mega.nz/file/D2AFyKaZ#Hvq8xFQw8mINfQ6KYb8fvQFYjhUvdC-DLcIWCxD7fEk\">"
   ]
  },
  {
   "cell_type": "markdown",
   "metadata": {},
   "source": [
    "____________________________________________________"
   ]
  },
  {
   "cell_type": "code",
   "execution_count": 73,
   "metadata": {},
   "outputs": [],
   "source": [
    "# ## Trying other models\n",
    "# from sklearn.svm import SVR\n",
    "# svr = SVR(C=1.0,epsilon=0.2)\n",
    "# svr.fit(xs,ys)\n",
    "# ans_ =svr.predict(txs)\n",
    "# ans_ = np.reshape(ans_, (ans_.shape[0],1))\n",
    "# ans_ = ans_*100\n",
    "\n",
    "# # write(ans_, test_index)"
   ]
  },
  {
   "cell_type": "code",
   "execution_count": 81,
   "metadata": {},
   "outputs": [
    {
     "name": "stdout",
     "output_type": "stream",
     "text": [
      "(60, 31)\n"
     ]
    }
   ],
   "source": [
    "# take = np.copy(ans_)\n",
    "# for c in [1,5,10,80,110,120]:\n",
    "#     for e in [0.1, 0.002, 0.3, 0.83, 0.99]:\n",
    "#         svr = SVR(C = c, epsilon=e)\n",
    "#         svr.fit(xs,ys)\n",
    "#         ansx = svr.predict(txs)\n",
    "#         ansx = np.reshape(ansx, (ansx.shape[0],1))\n",
    "#         ansx = ansx*100\n",
    "#         take = np.concatenate([take,ansx],axis = 1)\n",
    "        \n",
    "\n",
    "# print(take.shape)"
   ]
  },
  {
   "cell_type": "code",
   "execution_count": 82,
   "metadata": {},
   "outputs": [],
   "source": [
    "# xx = np.concatenate([ans,ans_], axis = 1)\n",
    "# xx = np.max(xx, axis = 1)\n",
    "# xx\n",
    "# take = np.min(take, axis =1)\n",
    "# write(take, test_index)"
   ]
  },
  {
   "cell_type": "code",
   "execution_count": 77,
   "metadata": {},
   "outputs": [],
   "source": [
    "# write(xx, test_index)"
   ]
  },
  {
   "cell_type": "code",
   "execution_count": null,
   "metadata": {},
   "outputs": [],
   "source": []
  }
 ],
 "metadata": {
  "interpreter": {
   "hash": "ac59ebe37160ed0dfa835113d9b8498d9f09ceb179beaac4002f036b9467c963"
  },
  "kernelspec": {
   "display_name": "Python 3.9.0 64-bit",
   "name": "python3"
  },
  "language_info": {
   "codemirror_mode": {
    "name": "ipython",
    "version": 3
   },
   "file_extension": ".py",
   "mimetype": "text/x-python",
   "name": "python",
   "nbconvert_exporter": "python",
   "pygments_lexer": "ipython3",
   "version": "3.9.0"
  },
  "orig_nbformat": 4
 },
 "nbformat": 4,
 "nbformat_minor": 2
}
