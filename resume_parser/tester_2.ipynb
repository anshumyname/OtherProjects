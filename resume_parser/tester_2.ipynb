{
 "metadata": {
  "language_info": {
   "codemirror_mode": {
    "name": "ipython",
    "version": 3
   },
   "file_extension": ".py",
   "mimetype": "text/x-python",
   "name": "python",
   "nbconvert_exporter": "python",
   "pygments_lexer": "ipython3",
   "version": "3.9.0"
  },
  "orig_nbformat": 4,
  "kernelspec": {
   "name": "python3",
   "display_name": "Python 3.9.0 64-bit"
  },
  "interpreter": {
   "hash": "ac59ebe37160ed0dfa835113d9b8498d9f09ceb179beaac4002f036b9467c963"
  }
 },
 "nbformat": 4,
 "nbformat_minor": 2,
 "cells": [
  {
   "cell_type": "code",
   "execution_count": 1,
   "source": [
    "import re\r\n",
    "import os\r\n",
    "import numpy as np\r\n",
    "import pandas as pd\r\n",
    "import nltk \r\n",
    "from nltk.corpus import stopwords\r\n",
    "from numpy import dot\r\n",
    "from numpy.linalg import norm"
   ],
   "outputs": [],
   "metadata": {}
  },
  {
   "cell_type": "code",
   "execution_count": 2,
   "source": [
    "keywords = [\"personal\",\"projects\",\"experience\",\"skills\",\"education\"]\r\n",
    "\r\n",
    "\r\n",
    "stop_words = stopwords.words('english')"
   ],
   "outputs": [],
   "metadata": {}
  },
  {
   "cell_type": "code",
   "execution_count": 3,
   "source": [
    "def cleanResume(resumeText):\r\n",
    "    resumeText = re.sub('http\\S+\\s*', ' ', resumeText)  # remove URLs\r\n",
    "    resumeText = re.sub('RT|cc', ' ', resumeText)  # remove RT and cc\r\n",
    "    # resumeText = re.sub('#\\S+', '', resumeText)  # remove hashtags\r\n",
    "    resumeText = re.sub('@\\S+', '  ', resumeText)  # remove mentions\r\n",
    "    resumeText = re.sub('[%s]' % re.escape(\"\"\"!\"#$%&'()*,-./:;<=>?@[\\]^_`{|}~\"\"\"), ' ', resumeText)  # remove punctuations\r\n",
    "    resumeText = re.sub(r'[^\\x00-\\x7f]',r' ', resumeText) \r\n",
    "    resumeText = re.sub('\\s+', ' ', resumeText)  # remove extra whitespace\r\n",
    "    resumeText = [x for x in resumeText.split() if x not in stop_words]     #Removing stopwords\r\n",
    "    return resumeText"
   ],
   "outputs": [],
   "metadata": {}
  },
  {
   "cell_type": "code",
   "execution_count": 4,
   "source": [
    "\r\n",
    "MAX_SEQUENCE_LENGTH = 100\r\n",
    "MAX_WORDS = None\r\n",
    "\r\n"
   ],
   "outputs": [],
   "metadata": {}
  },
  {
   "cell_type": "code",
   "execution_count": 5,
   "source": [
    "def read_txt (path_to_folder, dir):\r\n",
    "    indexes = []\r\n",
    "    categories = {}\r\n",
    "    for w in keywords:\r\n",
    "        categories[w] = []\r\n",
    "    for filename in dir:\r\n",
    "        file = open(path_to_folder + filename,'r')\r\n",
    "        read = file.read()\r\n",
    "        read = read.lower()\r\n",
    "        file.close()\r\n",
    "\r\n",
    "        read = cleanResume(read)\r\n",
    "\r\n",
    "        hash = {}\r\n",
    "        hash[\"personal\"] =0\r\n",
    "        for word in keywords:\r\n",
    "            if word in read:\r\n",
    "                hash[word] = read.index(word)\r\n",
    "\r\n",
    "\r\n",
    "        items = sorted(hash.items(), key = lambda x: x[1])\r\n",
    "        for i in range(len(items)):\r\n",
    "            start = items[i][1]\r\n",
    "            end = None\r\n",
    "            if (i+1)==len(items):\r\n",
    "                end = len(read)\r\n",
    "            else:\r\n",
    "                end = items[i+1][1]\r\n",
    "\r\n",
    "            categories[items[i][0]].append(read[start:end])\r\n",
    "\r\n",
    "        for w in keywords:\r\n",
    "            if w not in hash.keys():\r\n",
    "                categories[w].append('None') \r\n",
    "\r\n",
    "        indexes.append(filename)\r\n",
    "    return  categories, indexes"
   ],
   "outputs": [],
   "metadata": {}
  },
  {
   "cell_type": "code",
   "execution_count": 6,
   "source": [
    "dir = os.listdir('./train_txt/')\r\n",
    "categories, indexes = read_txt('./train_txt/',dir)"
   ],
   "outputs": [],
   "metadata": {}
  },
  {
   "cell_type": "code",
   "execution_count": 17,
   "source": [
    "data = []\r\n",
    "sentences = []\r\n",
    "for i in range(len(indexes)):\r\n",
    "    row = []\r\n",
    "    for w in keywords:\r\n",
    "        row.append(categories[w][i])\r\n",
    "        if categories[w][i] is not  None:\r\n",
    "            sentences.append(categories[w][i])\r\n",
    "\r\n",
    "    data.append(row)"
   ],
   "outputs": [],
   "metadata": {}
  },
  {
   "cell_type": "code",
   "execution_count": 18,
   "source": [
    "sentences += [['<unk>']]"
   ],
   "outputs": [],
   "metadata": {}
  },
  {
   "cell_type": "code",
   "execution_count": 19,
   "source": [
    "df = pd.DataFrame(data, index=indexes, columns=keywords)\r\n",
    "df"
   ],
   "outputs": [
    {
     "output_type": "execute_result",
     "data": {
      "text/html": [
       "<div>\n",
       "<style scoped>\n",
       "    .dataframe tbody tr th:only-of-type {\n",
       "        vertical-align: middle;\n",
       "    }\n",
       "\n",
       "    .dataframe tbody tr th {\n",
       "        vertical-align: top;\n",
       "    }\n",
       "\n",
       "    .dataframe thead th {\n",
       "        text-align: right;\n",
       "    }\n",
       "</style>\n",
       "<table border=\"1\" class=\"dataframe\">\n",
       "  <thead>\n",
       "    <tr style=\"text-align: right;\">\n",
       "      <th></th>\n",
       "      <th>personal</th>\n",
       "      <th>projects</th>\n",
       "      <th>experience</th>\n",
       "      <th>skills</th>\n",
       "      <th>education</th>\n",
       "    </tr>\n",
       "  </thead>\n",
       "  <tbody>\n",
       "    <tr>\n",
       "      <th>candidate_000.txt</th>\n",
       "      <td>[personal, profile, actively, seeking, opportu...</td>\n",
       "      <td>[projects, music, genre, classification, face,...</td>\n",
       "      <td>None</td>\n",
       "      <td>[skills, python, sql, mysql, tableau, power, b...</td>\n",
       "      <td>[education, b, tech, ece, vit, ap, university,...</td>\n",
       "    </tr>\n",
       "    <tr>\n",
       "      <th>candidate_001.txt</th>\n",
       "      <td>[brianna, williams, junior, developer, executi...</td>\n",
       "      <td>[projects, also, contribute, knowledge, logica...</td>\n",
       "      <td>[experience, curiosity, driven, data, scientis...</td>\n",
       "      <td>[skills, towards, consistent, growth, developm...</td>\n",
       "      <td>[education, teamwork, bsc, ca, mamco, universi...</td>\n",
       "    </tr>\n",
       "    <tr>\n",
       "      <th>candidate_002.txt</th>\n",
       "      <td>[mason, quadrado, associate, analyst, certifie...</td>\n",
       "      <td>None</td>\n",
       "      <td>[experience, analyzing, interpreting, data, go...</td>\n",
       "      <td>[skills, python, machine, learning, mysql, dat...</td>\n",
       "      <td>[education, b, tech, b, e, electronics, teleco...</td>\n",
       "    </tr>\n",
       "    <tr>\n",
       "      <th>candidate_003.txt</th>\n",
       "      <td>[associate, software, engineer]</td>\n",
       "      <td>[projects, koy, ok, 1e, im, ge, tena, wal, tur...</td>\n",
       "      <td>[experience, software, engineer, machine, lear...</td>\n",
       "      <td>[skills, ava, alo, avin, zt, od, al, ms, 1, da...</td>\n",
       "      <td>[education, b, tech, v, v, 2018, activities, a...</td>\n",
       "    </tr>\n",
       "    <tr>\n",
       "      <th>candidate_006.txt</th>\n",
       "      <td>[jennifer, armstrong, computer, vision, enthus...</td>\n",
       "      <td>[projects, understanding, images, gan, based, ...</td>\n",
       "      <td>[experience, currently, professional, experience]</td>\n",
       "      <td>[skills, machine, learning, deep, learning, co...</td>\n",
       "      <td>[education, b, tech, computer, science, iit, g...</td>\n",
       "    </tr>\n",
       "    <tr>\n",
       "      <th>...</th>\n",
       "      <td>...</td>\n",
       "      <td>...</td>\n",
       "      <td>...</td>\n",
       "      <td>...</td>\n",
       "      <td>...</td>\n",
       "    </tr>\n",
       "    <tr>\n",
       "      <th>candidate_144.txt</th>\n",
       "      <td>[benjamin, osta, fresher, developer, professio...</td>\n",
       "      <td>[projects, proficient]</td>\n",
       "      <td>None</td>\n",
       "      <td>[skills, software, engineer, software, develop...</td>\n",
       "      <td>None</td>\n",
       "    </tr>\n",
       "    <tr>\n",
       "      <th>candidate_145.txt</th>\n",
       "      <td>[jerome, pelinsky, big, data, analyst, big, da...</td>\n",
       "      <td>None</td>\n",
       "      <td>[experience, handling, kinds, data, also, used...</td>\n",
       "      <td>[skills, big, data, hadoop, hive, python, mapr...</td>\n",
       "      <td>[education, b, tech, electronics, amity, schoo...</td>\n",
       "    </tr>\n",
       "    <tr>\n",
       "      <th>candidate_147.txt</th>\n",
       "      <td>[jaroslav, chechnik, executive, profile, work]</td>\n",
       "      <td>[projects, music, genre, classification, face,...</td>\n",
       "      <td>[experience, looking, job, opportunity, expert...</td>\n",
       "      <td>[skills, b, tech, ece, vit, ap, university, 20...</td>\n",
       "      <td>[education]</td>\n",
       "    </tr>\n",
       "    <tr>\n",
       "      <th>candidate_148.txt</th>\n",
       "      <td>[data, scientist]</td>\n",
       "      <td>[projects, acvaline, daal, lan, el, kx, 1e, mm...</td>\n",
       "      <td>[experience, building, deploying, end, end, an...</td>\n",
       "      <td>[skills, dy, esxoll, alot, dy, ha, wy, val, hv...</td>\n",
       "      <td>[education, b, tech, b, e, computers, rajiv, g...</td>\n",
       "    </tr>\n",
       "    <tr>\n",
       "      <th>candidate_149.txt</th>\n",
       "      <td>[personal, profile, machine, learning, enginee...</td>\n",
       "      <td>[projects, wesbite, using, react, made, fully,...</td>\n",
       "      <td>None</td>\n",
       "      <td>[skills, artificial, intelligence, deep, learn...</td>\n",
       "      <td>[education, b, tech, hit, kancheepuram, chenna...</td>\n",
       "    </tr>\n",
       "  </tbody>\n",
       "</table>\n",
       "<p>90 rows × 5 columns</p>\n",
       "</div>"
      ],
      "text/plain": [
       "                                                            personal  \\\n",
       "candidate_000.txt  [personal, profile, actively, seeking, opportu...   \n",
       "candidate_001.txt  [brianna, williams, junior, developer, executi...   \n",
       "candidate_002.txt  [mason, quadrado, associate, analyst, certifie...   \n",
       "candidate_003.txt                    [associate, software, engineer]   \n",
       "candidate_006.txt  [jennifer, armstrong, computer, vision, enthus...   \n",
       "...                                                              ...   \n",
       "candidate_144.txt  [benjamin, osta, fresher, developer, professio...   \n",
       "candidate_145.txt  [jerome, pelinsky, big, data, analyst, big, da...   \n",
       "candidate_147.txt     [jaroslav, chechnik, executive, profile, work]   \n",
       "candidate_148.txt                                  [data, scientist]   \n",
       "candidate_149.txt  [personal, profile, machine, learning, enginee...   \n",
       "\n",
       "                                                            projects  \\\n",
       "candidate_000.txt  [projects, music, genre, classification, face,...   \n",
       "candidate_001.txt  [projects, also, contribute, knowledge, logica...   \n",
       "candidate_002.txt                                               None   \n",
       "candidate_003.txt  [projects, koy, ok, 1e, im, ge, tena, wal, tur...   \n",
       "candidate_006.txt  [projects, understanding, images, gan, based, ...   \n",
       "...                                                              ...   \n",
       "candidate_144.txt                             [projects, proficient]   \n",
       "candidate_145.txt                                               None   \n",
       "candidate_147.txt  [projects, music, genre, classification, face,...   \n",
       "candidate_148.txt  [projects, acvaline, daal, lan, el, kx, 1e, mm...   \n",
       "candidate_149.txt  [projects, wesbite, using, react, made, fully,...   \n",
       "\n",
       "                                                          experience  \\\n",
       "candidate_000.txt                                               None   \n",
       "candidate_001.txt  [experience, curiosity, driven, data, scientis...   \n",
       "candidate_002.txt  [experience, analyzing, interpreting, data, go...   \n",
       "candidate_003.txt  [experience, software, engineer, machine, lear...   \n",
       "candidate_006.txt  [experience, currently, professional, experience]   \n",
       "...                                                              ...   \n",
       "candidate_144.txt                                               None   \n",
       "candidate_145.txt  [experience, handling, kinds, data, also, used...   \n",
       "candidate_147.txt  [experience, looking, job, opportunity, expert...   \n",
       "candidate_148.txt  [experience, building, deploying, end, end, an...   \n",
       "candidate_149.txt                                               None   \n",
       "\n",
       "                                                              skills  \\\n",
       "candidate_000.txt  [skills, python, sql, mysql, tableau, power, b...   \n",
       "candidate_001.txt  [skills, towards, consistent, growth, developm...   \n",
       "candidate_002.txt  [skills, python, machine, learning, mysql, dat...   \n",
       "candidate_003.txt  [skills, ava, alo, avin, zt, od, al, ms, 1, da...   \n",
       "candidate_006.txt  [skills, machine, learning, deep, learning, co...   \n",
       "...                                                              ...   \n",
       "candidate_144.txt  [skills, software, engineer, software, develop...   \n",
       "candidate_145.txt  [skills, big, data, hadoop, hive, python, mapr...   \n",
       "candidate_147.txt  [skills, b, tech, ece, vit, ap, university, 20...   \n",
       "candidate_148.txt  [skills, dy, esxoll, alot, dy, ha, wy, val, hv...   \n",
       "candidate_149.txt  [skills, artificial, intelligence, deep, learn...   \n",
       "\n",
       "                                                           education  \n",
       "candidate_000.txt  [education, b, tech, ece, vit, ap, university,...  \n",
       "candidate_001.txt  [education, teamwork, bsc, ca, mamco, universi...  \n",
       "candidate_002.txt  [education, b, tech, b, e, electronics, teleco...  \n",
       "candidate_003.txt  [education, b, tech, v, v, 2018, activities, a...  \n",
       "candidate_006.txt  [education, b, tech, computer, science, iit, g...  \n",
       "...                                                              ...  \n",
       "candidate_144.txt                                               None  \n",
       "candidate_145.txt  [education, b, tech, electronics, amity, schoo...  \n",
       "candidate_147.txt                                        [education]  \n",
       "candidate_148.txt  [education, b, tech, b, e, computers, rajiv, g...  \n",
       "candidate_149.txt  [education, b, tech, hit, kancheepuram, chenna...  \n",
       "\n",
       "[90 rows x 5 columns]"
      ]
     },
     "metadata": {},
     "execution_count": 19
    }
   ],
   "metadata": {}
  },
  {
   "cell_type": "code",
   "execution_count": 20,
   "source": [
    "dir = ['Job description.txt']\r\n",
    "cat, _ = read_txt('./', dir)"
   ],
   "outputs": [],
   "metadata": {}
  },
  {
   "cell_type": "code",
   "execution_count": 21,
   "source": [
    "print(sentences[-5:])\r\n"
   ],
   "outputs": [
    {
     "output_type": "stream",
     "name": "stdout",
     "text": [
      "[['projects', 'wesbite', 'using', 'react', 'made', 'fully', 'customizable', 'website', 'company', 'analyst', 'intern', 'work', 'background', 'larsen', 'toubro', 'analyst', 'intern', 'dec', '2019', 'till', 'date', 'building', 'ocr', 'models', 'based', 'test', 'report', 'data'], 'None', ['skills', 'artificial', 'intelligence', 'deep', 'learning', 'reinforcement', 'learning', 'tensorflow', 'keras', 'scikit', 'learn', 'numpy', 'pandas', 'matplotlib'], ['education', 'b', 'tech', 'hit', 'kancheepuram', 'chennai', '2019', 'activities', 'ksst', 'scholar'], ['<unk>']]\n"
     ]
    }
   ],
   "metadata": {}
  },
  {
   "cell_type": "code",
   "execution_count": 22,
   "source": [
    "from gensim.models import Word2Vec\r\n",
    "word2vec = Word2Vec(sentences, vector_size = 50, window = 3, min_count=1)\r\n"
   ],
   "outputs": [],
   "metadata": {}
  },
  {
   "cell_type": "code",
   "execution_count": 23,
   "source": [
    "dictionary = list(word2vec.wv.key_to_index)\r\n",
    "print(dictionary)"
   ],
   "outputs": [
    {
     "output_type": "stream",
     "name": "stdout",
     "text": [
      "['data', 'learning', 'machine', 'analysis', '2019', 'python', 'skills', 'e', 'b', 'experience', '2020', 'projects', 'business', 'n', 'o', 'analytics', 'tech', 'N', 'profile', 'using', 'science', 'analyst', 'engineer', 'work', 'education', 'deep', 'software', 'university', 'processing', 'based', 'developer', 'activities', 'intern', 'language', 'natural', 'college', 'fresher', 'models', 'development', 'date', 'till', 'management', 'intelligence', 'worked', 'engineering', 'nlp', 'junior', 'text', 'computer', 'solutions', 'system', '2018', 'history', 'sql', 'regression', 'scientist', 'statistical', 'visualization', 'cloud', 'mining', 'artificial', 'learn', 'project', 'professional', 'tableau', 'r', 'time', 'different', 'modeling', 'looking', 'problems', 'aws', 'building', 'big', 'vision', 'may', 'research', 'working', 'technology', 'end', 'like', 'ongoing', 'well', 'predictive', '2021', 'associate', 'understanding', 'also', 'jan', 'proficient', 'model', 'neural', 'currently', 'customer', 'background', 'java', 'ml', 'networks', 'algorithms', 'educational', 'recognition', 'employment', 'graduate', 'risk', 'application', 'team', 'nov', 'apr', 'academic', 'tensorflow', 'role', 'computers', 'advanced', 'numpy', 'classification', 'image', 'dec', 'multiple', 'ltd', '1', 'statistics', 'al', 'detection', 'personal', 'knowledge', 'insights', 'analytical', 'institute', 'jun', 'electronics', 'keras', 'azure', 'testing', 'c++', 'pandas', 'used', 'related', 'oct', 'prediction', 'part', 'executive', 'feb', 'production', 'strong', 'achievements', 'modelling', 'developing', 'extra', 'algorithm', 'scikit', 'developed', 'create', 'assistant', 'company', 'systems', 'series', 'lam', 'always', 'linear', 'c', 'mm', 'awards', 'market', 'analyzing', 'large', 'excel', 'pyspark', 'qualification', 'programming', 'extraction', 'solution', 'sc', 'driven', 'database', 'problem', 'pytorch', 'quality', 'flask', 'decision', 'creating', 'dy', 'matplotlib', 'domain', 'images', 'tools', 'solving', 'bi', 'network', 'power', 'various', 'telecommunication', 'services', 'pvt', 'trainee', 'iit', 'level', 'process', 'product', 'information', 'service', 'hands', 'clustering', 'opportunity', '2017', 'recommender', 'requirement', 'clients', 'individual', 'certified', 'want', 'degree', 'applications', 'mysql', 'real', 'chatbot', 'ca', 'certificate', 'techniques', 'object', 'bert', 'automation', 'sas', 'jul', 'structures', 'seeking', 'help', 'face', 'sep', 'client', 'delivery', 'sde', 'would', 'methods', 'communication', 'understand', 'pipelines', 'introduction', 'get', 'opportunities', 'hive', 'new', 'made', 'year', 'collection', 'opencv', 'deployment', 'rnn', 'credit', 'evaluation', 'embedded', 'sentiment', 'smart', 'economics', 'search', 'tata', 'spark', 'pune', 'performing', 'certification', 'msc', 'handling', 'contribute', 'hadoop', 'satisfaction', 'technologies', 'solve', 'good', 'pattern', 'google', 'dashboards', 'towards', 'predict', 'logistic', 'better', 'use', 'results', 'django', 'sikkim', 'gathering', 'linux', 'analyze', 'kerala', 'speech', 'best', 'financial', 'along', 'pipeline', 'l', 'identify', 'consultancy', 'design', 'architecture', 'expertise', 'explore', 'identification', 'making', 'synthesis', 'cleaning', 'devices', 'curricular', 'front', 'edge', 'fraud', 'bank', 'mar', 'find', 'firebase', 'india', 'noida', 'objectives', 'tasks', 'make', 'improve', 'forecasting', 'curriculars', 'experienced', 'decisions', 'delhi', 'specialist', 'elastic', 'roles', 'internship', 'html', 'join', 'challenging', 'concepts', 'performed', 'singh', 'sap', 'api', 'mongodb', 'strategies', 'kubernetes', 'order', 'extract', 'requirements', 'commercial', 'technical', 'created', 'tuning', 'contributed', 'someone', 'nagpur', 'keen', 'award', 'powerbi', 'marketing', 'vendors', 'impact', 'uracy', 'employee', 'manager', 'infrastructure', 'approach', 'transaction', 'meaningful', 'informed', '2', 'analyzer', 'server', 'complex', 'report', 'aug', 'passionate', 'key', 'training', 'organization', 'control', 'sp', 'trained', 'ms', 'core', 'di', 'exploration', 'runner', 'debugging', 'enthusiast', 'environment', 'expert', 'bsc', 'support', 'ai', 'managing', 'amity', 'docker', 'investment', 'provide', 'base', 'ece', 'interested', 'vit', 'st', 'ready', 'acquainted', 'bca', 'determine', 'k', 'field', 'implementing', 'chemical', 'flow', 'line', 'lal', 'ocr', 'ale', 'user', 'lstm', 'electrical', 'predictions', 'researcher', 'nltk', 'industry', 'dbms', 'focused', 'attention', 'website', 'dataset', 'automate', 'patterns', 'academy', 'home', 'leanring', 'teams', 'hyderabad', 'reporting', 'manipulation', 'processes', 'details', 'methodology', 'aa', 'microsoft', 'finance', 'validation', 'automated', 'matlab', 'feature', 'sets', 'beginners', 'deploying', 'skilled', 'expand', 'full', 'javascript', 'required', 'small', 'medical', 'gandhi', 'rajiv', 'final', 'build', 'program', 'labs', 'reports', 'fit', 'unsupervised', 'powerbl', 'visualisation', 'chain', 'easy', 'world', 'portfolio', 'detail', 'arts', 'seaborn', 'sol', 'utilizing', 'store', 'amazon', 'parts', 'eda', 'oriented', 'knn', 'designing', 'test', 'given', 'sources', 'produce', 'areas', 'target', 'structured', 'unstructured', 'kafka', 'word', 'cse', 'collect', 'limited', 'means', 'consultants', 'ibm', 'retail', 'box', 'providing', 'rdbms', 'state', 'art', 'achieve', 'previously', 'sons', 'insurance', 'side', 'bengaluru', 'datasets', 'josephs', 'kinds', 'dashboard', 'consultant', 'international', 'kolkata', 'mba', 'predicting', 'transfer', 'extracting', 'integration', 'anomaly', 'cdn', 'specialization', 'environments', 'determination', 'collected', 'online', 'libraries', 'bangalore', 'intelligent', 'improvement', 'customers', 'ha', '4', 'civil', 'preprocessing', 'right', 'mechanism', 'deeper', 'activites', 'objective', 'corporate', 'su', 'ess', 'designed', 'ec2', 'ap', 'leverage', 'took', 'internal', 'growth', 'interpreting', 'trees', 'random', 'forest', 'loans', 'retention', 'closely', '1e', 'motivated', 'grow', 'ability', 'innovative', 'involved', 'web', 'alo', 'od', 'v', 'job', 'lucknow', 'air', 'extensive', 'exploring', 'ui', 'sai', 'applied', 'bba', 'optimization', 'computing', 'structure', 'pre', 'assisted', 'conversational', 'practitioner', 'responsibilities', 'f', 'bot', 'future', 'built', 'course', 'easily', 'comes', 'mason', 'ann', 'including', 'punjab', 'develop', 'dataflow', 'selecting', 'features', 'across', 'kharagpur', 'implemented', 'enhanced', 'responses', 'milestone', 'increase', 'duration', 'identities', 'source', 'spss', 'post', 'generation', 'email', 'analyzed', 'im', 'index', 'erc', 'national', 'vellore', 'factors', 'nosql', 'finding', 'wal', 'green', 'employees', 'sales', 'srm', 'infotech', 'matching', 'auto', 'raja', 'ko', 'scale', 'ranchi', 'mortgages', 'wrangling', 'amount', 'perform', 'amz', 'xgboost', 'troubleshooting', 'component', 'correlation', 'parking', 'ticket', 'hub', 'integrated', 'experts', 'wm', 'fal', 'smile', 'eye', 'display', 'evaluate', 'performance', 'metrics', 'track', 'high', 'genre', 'music', 'volume', 'ways', 'identifying', 'optimize', 'leading', 'scenarios', 'movie', 'publicis', 'sapient', 'actively', 'leadership', 'kvoct', 'masters', 'type', 'availability', 'mamco', 'come', 'agile', 'continuous', 'enhance', 'switch', 'selenium', 'jenkins', 'extracted', 'overall', 'study', '5', 'williams', 'input', 'gpu', 'framework', 'house', 'kind', 'git', 'involve', 'inc', 'non', 'likelihood', 'purchase', 'thinking', 'mathews', 'react', 'postgresql', 'transition', 'fine', 'payment', 'technique', 'segmentation', 'assembly', 'journey', 'started', 'life', 'php', 'grade', 'strategy', 'computation', 'scalable', 'acs', 'teaching', 'coursework', 'indian', 'chat', 'group', 'comments', 'agro', 'parameter', 'media', 'mca', 'outcomes', 'focus', 'transportation', 'automating', 'mangalore', 'category', 'vehicle', 'engine', 'gcp', 'crash', 'way', 'analytic', 'location', 'technological', 'nanyang', 'radio', 'ae', 'arduino', 'alm', 'ure', 'office', 'irer', 'interest', 'device', 'wu', 'fe', 'views', 'unit', 'highly', 'mentality', 'code', 'take', 'familiar', 'enterprises', 'mele', 'learner', 'medalist', 'heuristics', 'advisor', 'excellent', 'foundation', 'go', 'children', 'needs', 'portal', 'address', 'goa', 'bits', 'manipal', 'solinovate', 'firm', 'improving', 'classifier', 'app', 'xlnet', 'voice', 'mahindra', 'estimation', 'memorial', 'allocation', 'informatics', '16', 'pi', 'innovation', 'discovery', 'w', 'warehouses', 'ruby', 'strategic', 'utilize', 'intermediate', 'workshop', 'datacamp', 'school', 'easier', 'expenditure', 'remote', 'performer', 'digital', 'irrm', 'languages', 'price', 'engagement', 'svm', 'ol', 'loves', 'determined', 'rich', 'fale', 'elo', 'gpt', 'charan', 'wy', 'db', 'css', 'storage', 'presales', 'hit', 'gallate', 'figure', 'dive', 'warehouse', 'reaction', 'transformation', 'springboot', 'orders', 'fake', 'disciplined', 'managerial', 'bgbs', 'starting', 'organize', 'mohantpur', 'ludhiana', 'rgpv', 'je', 'master', 'producing', 'vishwavidyalaya', 'bhopal', 'factor', 'adept', '14', 'ww', 'proudyogiki', 'apply', 'amounts', 'hvan', 'mini', 'significant', 'disseminate', 'pm', 'graphql', 'returns', 'mel', 'ksv', 'career', 'potential', 'allal', 'years', 'ratio', 'fields', 'maulana', 'beautiful', 'ore', 'reinforcement', 'blockchain', 'documents', 'soup', 'believe', 'kochi', 'audience', 'lule', 'virtual', 'commerce', 'daat', 'descriptive', 'important', 'dal', 'approaches', 'databases', 'scripts', 'p', 'character', 'semantic', 'kexok', 'apache', 'adapt', 'assessment', 'learned', 'graduating', 'ahmedabad', 'businesses', 'incorporating', 'registration', 'position', 'orchidia', 'malviya', 'travels', 'tours', 'alteryx', 'lurelal', 'prioritization', 'declining', 'disease', 'entertainment', 'singhji', 'valaml', 'avan', 'amber', 'rfp', 'sppu', 'shri', 'guru', 'gobind', 'naned', 'travel', 'defining', 'plans', 'positioning', 'coarse', 'grained', 'stakeholders', 'sme', 'coordinating', 'aal', '110', 'bx', 'zoombot', 'clifford', 'operational', 'derive', 'bill', 'indore', 'hem', 'tou', 'supervised', 'ldaliale', 'talellal', 'lamdy', 'division', 'cognitive', 'jno', 'eo', 'qualities', 'shown', 'jelolau', 'ata', 'na', 'works', 'diasters', 'goverment', 'geo', 'ceramic', 'predicted', 'ethan', 'conners', 'slas', 'methodologies', '14celammie', 'inventory', 'optimum', 'player', 'plant', 'criticism', 'material', 'ep', 'cutthroat', 'nano', 'udacity', 'productivity', 'sequential', 'attack', 'step', 'avid', 'wtpl', 'frameworks', 'burnsley', 'everett', 'anomalies', 'filtration', 'srmu', 'madras', 'com', 'lambda', 'presenting', 'optimizing', 'gateways', 'utilization', 'demand', 'polarisation', 'en', 'uttaranchal', 'sample', 'pgg', 'proposal', 'conway', 'game', 'ne', 'swiaaleal', '1aaler', 'nierelaidalan', 'pyeox', 'nd', 'le', 'eee', 'moler', 'larela', 'biswa', 'sdaaliat', 'jjr', 'view', 'wealamiewes', 'nodejs', 'analvals', 'geakminds', 'toxicity', 'ramirez', 'jayla', 'subhash', 'developers', 'bb', 'outlets', 'people', 'drive', 'mine', 'presence', 'iabac', 'eagerly', 'mackey', 'ellie', 'capabilities', 'rfqs', 'passion', 'contribution', 'compounds', 'injunction', 'decided', 'algorithmic', 'issues', 'amelia', 'baker', 'breathing', 'affected', 'molecules', 'paint', 'nptel', 'coercive', 'msfe', 'consumption', 'steam', 'asistant', 'jadodia', 'sk', 'added', 'industrial', 'strive', 'result', 'om', 'vggi16', 'john', 'allen', 'liaison', 'orsvan', 'haa', 'jvv', 'nat', 'catalysis', 'minitab', 'aspen', 'waste', 'toxic', 'exchanges', 'bigger', 'erp', 'implementation', 'without', 'attitude', 'competency', 'chand', 'lelalial', 'aar', 'ialem', 'nave', 'okele', 'carefully', 'diametrics', 'gal', '410', 'arbitration', '11', 'regonition', 'oxe', 'laaller', 'olal', 'helps', 'laleniave', 'issue', 'modulated', 'transformer', 'range', 'aaliate', 'architectures', 'keep', 'meticulous', 'foot', 'iranstormers', 'huggingrace', 'boundaries', 'define', 'try', 'gru', 'telemetry', 'sju', 'karnataka', 'l4', 'alexis', 'relelt', 'gradute', 'lalromaaleli', 'ger', 'topics', 'laveme', 'mumbai', 'leualial', 'though', 'technosciences', 'gartner', 'request', 'sense', 'possessing', 'delivered', 'urate', 'video', 'timeliness', 'exhibited', 'scriptures', 'therefore', 'express', 'pricing', 'informative', 'highest', 'optimising', 'route', 'franks', 'pierre', 'jimmy', 'proposals', 'chandra', 'garodia', 'crisp', 'fascinated', 'evolving', 'creative', 'oracle', 'railway', 'signals', 'determiner', 'relay', 'weight', 'convey', 'liam', 'andrews', 'trying', 'adversarial', 'responsible', 'rfis', 'helping', 'rfps', 'pycharm', 'heramba', 'sadar', 'anthony', 'horan', 'dispute', 'jaime', 'days', 'invoice', 'guided', 'checmical', 'mu', 'latent', '1anave', 'mechanisms', 'uate', '1alolar', 'aaly4', 'ola', 's1', 'gelet', 'gall', 'vizon', 'guap', 'venture', 'serving', 'sanrachna', 'collecting', 'site', 'shopping', 'guidance', 'professionals', 'innovations', 'dkb', 'representation', 'graphical', 'animated', 'quantitative', 'rshiny', 'weather', 'particularly', 'secondary', 'deputy', 'sgt', 'architect', 'proficiency', 'patch', 'july', 'hotspots', 'idea', 'answers', 'similar', 'bhavleesh', 'mechanical', 'ensure', 'unstructered', 'groups', 'consistent', 'perceived', 'kripa', 'curiosity', 'stock', 'teamwork', 'grasp', 'thatcher', 'stella', 'kanpur', 'sgbau', 'kubeflow', 'charged', 'questions', 'duggar', 'top', 'found', 'eager', 'kpmmc', 'converting', 'scrapping', 'gruvil', 'ux', 'ondevice', 'rao', 'jagjiban', 'dr', 'engineered', 'cece', 'laravel', 'cases', 'klp', 'head', 'hmi', 'components', 'nasik', 'premium', 'estimate', 'probability', 'macy', 'orissa', 'mirror', 'jewelry', 'thala', 'quadrado', 'si', 'august', 'saiko', 'artistry', 'mower', 'lawn', 'robotic', 'controlled', 'gesture', 'numerical', 'buffet', 'shawn', 'pet', 'thy', 'feedback', 'arsenal', 'claim', 'coordinative', 'space', 'sub', 'cluster', 'possible', 'drop', 'principal', 'cnn', 'anova', 'yolo', 'redact', 'detect', 'origin', 'return', 'tree', 'rto', 'communications', 'one97', 'browsing', 'exchange', 'format', 'drdo', 'blood', 'acquisition', 'aiitave', 'iw', 'lore', 'val', 'alot', 'jacob', 'smith', 'esxoll', 'topic', 'sadhana', 'identifier', 'resources', 'energy', 'demonstrated', 'answering', 'infolal', 'oler', 'kx', 'el', 'lan', 'hm', 'dx', 'lm', 'lali', 'ksst', 'chennai', 'kancheepuram', 'toubro', 'larsen', 'customizable', 'fully', 'wesbite', 'goal', 'discover', 'assignments', 'ler', 'alelur', 'il', '1im', '1mula', '3i', 'lulelar', 'te', 'daal', 'acvaline', 'raspberry', 'hql', 'offers', 'robust', 'pelinsky', 'jerome', 'anna', 'members', 'compression', 'flipkart', 'osta', 'benjamin', 'brianna', 'h', 'thew', 'mask', 'panda', 'coordination', 'captured', 'satellite', 'logical', 'mapreduce', 'hdfs', 'streamlit', 'yarn', 'anaconda', 'benefits', 'enhances', 'interact', 'chechnik', 'jaroslav', 'aset', 'served', 'batch', 'immediately', 'warehousing', 'shipment', 'cola', 'coca', 'redshift', 'talend', 'emr', 'informatica', 's3', 'importing', 'opencvv', 'sciences', 'modern', 'unified', 'leveraging', 'maintaining', 'vtu', 'visveswaraiah', 'medica', 'sahara', 'raised', 'gan', 'fashion', 'zt', 'incident', 'hard', 'attendance', 'jennings', 'lisa', 'contextual', 'reasoning', 'bio', 'guwahati', 'interface', 'terms', 'fun', 'upi', 'daluale', 'cards', 'approved', '10', 'known', 'assess', 'psi', 'csi', 'ktb', 'ntb', 'offering', 'maalolalixelaiare', 'miaalolo', 'upcoming', 'fo', 'jennifer', 'armstrong', 'tt', 'ors', 'giving', 'distinction', 'telco', 'classify', 'reed', 'sklearn', 'calcutta', 'darjeeling', 'pig', 'ct', 'jumpstart', 'wil', 'den', 'jain', 'cap', 'transactions', 'praxis', 'polymon', 'kibana', 'bigquery', 'mia', 'park', 'horizon', 'isabella', 'arrest', 'honorary', 'cardiac', 'member', 'student', 'council', 'promising', 'innovator', 'experiment', 'conjugation', 'winston', 'computationally', 'felix', 'legal', 'leaf', 'require', 'proper', 'attrition', 'cotton', 'divvy', 'rider', 'diseased', 'wol', 'avin', 'jupyter', 'balance', 'ltt', 'diploma', 'kumar', 'shiv', 'thakur', 'populate', 'categories', 'bristlecone', 'hr', 'beneficial', '1ace', 'devnagari', 'whats', 'seamless', 'enhancing', 'koy', 'ok', 'thus', 'ge', 'tena', 'chatbots', 'webpages', 'aha', 'silkel', 'advice', 'seek', 'multivariate', 'collaborative', 'naxapp', 'utilising', 'rasa', 'communicating', 'enjoy', 'ar', 'amalel', 'jalet', 'syoil', 'yorolenaliurolar', 'color', 'grading', '14k', 'ox', 'valet', 'tur', 'jdbc', 'aat', 'bit', 'birla', 'alsie', 'olicer', 'pe', 'lot', 'requests', 'mqtt', 'quite', 'axis', 'ingest', 'architectural', '1f', 'aakete', 'onvi', 'facilitate', 'maal', 'elet', 'aaal', 'ava', 'practices', 'maintain', 'huler', 'nicholas', 'hae', 'ld', 'bootstrap', 'yo', 'mol', 'aale', '11e', 'hib', 'tone', 'extremely', 'wanting', 'constantly', 'gomez', 'ginanna', 'professionally', 'confident', 'categorization', 'enlisting', 'mendes', 'avol', 'hansra9j', 'waterloo', 'etl', 'verifying', 'crison', 'global', 'offer', 'introduced', 'cleansing', 'instrumentation', 'franchise', 'owners', '1d', 'alhale', 'xolenavenlalem', 'vierelaidalaalsy', 'ees', 'hypothesis', 'olaiaaly4', '14loler', 'camilla', 'brown', 'integrity', 'feel', 'platforms', 'gathered', 'markinov', 'standard', 'limit', 'hare', 'hmm', 'tml', '1al', 'catboost', 'loss', 'ovate', 'birsimbal', 'pn', 'deeplearning', 'desk', 'dialogue', 'summarization', 'introduce', 'applicant', 'main', 'deplyoing', 'separating', 'fixing', 'purposes', 'principle', 'love', 'calculates', 'fallout', 'milestones', 'lexicon', 'ch', 'julia', 'sla', 'djr', 'targeted', 'shock', 'orchestration', 'deployments', 'ssgm', 'maharashtra', 'iiit', 'early', 'change', 'captioning', 'publications', 'passengers', 'sota', 'distance', 'hs', 'lexicons', 'coalesce', 'demands', 'net', 'orientation', 'sentences', 'maya', 'hayden', 'set', 'knack', 'fills', 'enthusiasm', 'dedicated', 'document', 'whole', 'several', 'orientations', 'chennal', 'ink', 'savav', 'period', 'goodman', 'absolutely', 'anything', 'vaguely', 'magicpin', 'haydon', 'scholar', 'converted', 'asl', 'ashley', 'vice', 'versa', 'zynta', 'bachelor', 'em', 'textual', 'ea', 'av2s1', '700', 'howard', 'chosen', 'oi', 'normality', 'oops', 'cron', 'defect', 'stacey', 'belarny', 'univariate', 'variate', 'multi', 'variance', 'dome', 'outlier', 'treatment', 'creation', 'star', 'invictus', 'qualis', 'jlot', 'belemundi', 'residual', 'mesn', 'associated', 'due', 'intricacies', 'jade', 'roberts', 'alignment', 'larger', 'insight', 'derivatives', 'completing', 'comparison', 'record', 'sector', 'remark', 'scalling', 'ldalialep', 'mmm', 'led', 'six', 'sigma', 'vk', 'belt', 'calicut', 'cit', 'metallurgy', 'setup', 'laalealiale', 'xceelsior', 'sacelele', 'dbscan', 'function', 'transform', 'number', 'fourier', 'noise', 'hamirpur', 'removing', 'transforming', 'flutter', 'kotlin', 'utility', 'empowered', 'expectations', 'nit', 'tracks', 'culture', 'tags', 'hsbc', 'prm', 'lifecycle', 'michael', 'reever', 'entire', 'ids', 'systemica', 'ah', 'ends', 'diya', 'quarter', 'effectively', 'gdp', 'agricultural', 'forecast', 'indicator', 'progress', 'manipulating', 'exploratory', 'alate', 'intermittent', 'dbb', 'auns', 'stabilities', 'mars', 'cognibot', 'robots', 'lines', 'currency', 'amassed', 'greater', 'desarks', 'frauds', 'within', 'fiat', 'analyse', 'plot', 'graphic', 'map', 'simplify', 'databricks', 'oade', 'case', 'dimensionality', 'varying', 'effective', 'deciding', 'translation', 'options', 'sourcing', 'banhadau', 'survey', 'food', 'recommending', 'nyugen', 'jeremy', 'programmer', 'setting', 'kottam', 'template', 'modules', 'deliverables', 'feeding', 'macros', 'nist', 'practice', 'steering', 'stakeholder', 'abberns', 'procedures', 'include', 'relevant', 'excelled', 'visual', 'studio', 'unix', 'grant', 'aifferent', 'decisionmaking', 'suitable', 'actionable', 'ra', 'assisting', 'direction', 'fuel', 'capable', 'driving', 'medicine', 'himachal', 'workflow', 'exercise', 'dass', 'turnover', 'tester', 'cool', 'rourkela', 'joseline', 'hernandez', 'lasso', 'ridge', 'cohesive', 'affecting', 'comparisons', 'jensen', 'carly', 'method', 'selection', 'train', 'raster', 'brainstrom', 'update', 'meter', 'skillset', 'recent', 'indosis', 'care', 'crowds', 'younger', 'reduce', 'cost', 'ease', 'maintenance', 'communicated', 'among', 'might', 'debug', 'amio', 'remiro', 'techc', 'nstrumentation', 'hoogly', 'robert', 'complete', 'question', 'paragraph', 'gpt2', 'vector', 'finally', 'digiscape', 'outcome', 'reliability', 'drocessors', 'repairable', 'tractor', 'node', 'jr', 'clean', 'stage', 'fsx', 'lustre', 'sagemaker', 'rogers', 'formulas', 'functions', 'haylee', 'rely', 'aid', 'depending', 'contains', 'glove', 'files', 'ibb', 'monitoring', 'sensor', 'sensors', 'installed', 'inside', 'exams', 'lucene', 'modeler', 'platform', 'devops', 'spacy', 'stanford', 'skn', 'coimbatore', 'damian', 'rossier', 'coding', 'bug', 'underneath', 'us', 'undertaken', 'numerous', 'initiatives', 'chrysalis', 'jkg', 'nashik', 'computational', 'bsi', 'bombay', 'cb', 'ledger', 'garcia', 'deloitte', 'consulting', 'private', 'jose', 'nyu', '2020to', 'link', 'companies', 'primarily', 'syor', 'elerate', 'shaheed', 'bhagat', 'around', 'revolves', 'health', 'isi', 'gold', 'wyatt', 'cooper', 'united', 'gr', 'lton', 'pytesseract', 'transformers', 'baliya', 'miet', 'inclusive', 'agnostic', 'aim', 'incorporation', 'iis', 'inputs', 'derived', 'connected', 'chunks', 'cummins', 'indentify', 'script', 'provided', 'gaving', 'wilson', 'robotics', 'dynamic', 'queries', 'nazapp', 'preparation', 'quantimum', 'guide', 'conjugated', 'supervision', 'perfecting', 'communicate', 'websites', 'vam', 'graphml', 'hardware', 'drove', 'host', 'laallale', 'yoym', 'greatly', 'x', 'transmissions', 'show', 'eagerness', 'exciting', 'korea', 'microcontroller', 'war', 'bands', 'frequency', 'carrying', 'message', 'bitrates', 'ven', 'criterias', 'ifrs', 'scorecard', 'deploy', 'maths', 'allele', 'reinsurance', 'gujarat', 'ount', 'advance', 'graduated', 'andlama', 'catastrophe', 'quantify', 'refining', 'bib', 'nats', 'ial', 'taxi', 'fare', 'rms', 'cat', 'loan', 'ording', 'pollution', 'hasi', '2015', 'quiz', 'interactive', 'loyola', 'osmania', 'pg', 'daniel', 'lopez', 'look', 'figures', 'facts', 'clouds', 'engines', 'minds', 's2h', 'ventures', 'amuel', 'interactions', 'volvo', 'hansraj', 'default', 'correspondent', 'iella', 'jo', 'containing', 'mapper', 'automatic', 'anomalous', 'behaviors', 'flagging', 'fraudulent', 'econometrics', 'nal', 'ere', 'kelel', 'vilale', 'vanh', 'ellen', 'huke', 'anm', 'inallalep', 'cotelg', 'laalaaliale', 'caltech', 'trends', 'identified', 'automotive', 'basher', 'concluding', 'vendor', 'photo', 'fault', 'point', 'fintech', 'manufacturing', 'stes', 'sydney', 'tsc', 'jira', 'employed', 'mlops', 'usage', 'throughout', 'tenure', 'jones', 'ideology', '9', 'kinsgley', 'rnns', 'jac', 'ete', 'hcl', 'aspects', 'local', 'dravidian', 'file', 'translate', 'urately', 'english', 'stc', 'pondicherry', 'glacier', 'simple', 'balancing', 'module', 'load', 'wf', 'ike', 'omi', 'z', 'breeds', 'gentle', 'skin', 'granulation', 'bottom', 'pillow', 'direct', 'jt', 'kanchipuram', 'kpis', 'combining', 'pylmagesearch', 'throttle', 'beuford', 'h20o', 'marcus', 'one', 'since', 'interpretation', 'amazes', 'profiling', 'beanstalk', 'g', 'ex', 'block', 'featurization', 'march', 'punjabi', 'patiala', 'kpg', 'avery', 'jacobs', 'biomedical', 'animals', 'titli', 'sharpe', 'icpc', 'reward', 'elocutioner', 'specially', 'abled', 'housing', 'jeco', 'armed', 'norms', 'profitability', 'organizational', 'iiale', 'au', 'cloudmail', 'mi', 'olf', 'ks', 'shurer', 'halo', 'ame', 'administration', 'pree', 'lille', 'jp', 'summer', 'proactive', 'ict', 'flair', 'adopting', 'emerging', 'infection', 'snake', 'co', 'brokerage', 'error', 'quromba', 'convolution', 'pixel', 'maskkrcnn', 'handled', 'tanisha', 'clientele', 'pictures', 'external', 'forgery', 'bu', 'nolan', 'clark', 'respectively', 'umulated', 'soil', 'moisture', 'economist', 'pes', 'restapi', 'detecting', 'angularjs', 'chadrasekhar', 'prove', 'specializing', 'deriving', 'centric', 'tool', 'tuned', 'parameters', 'cis', 'constructing', 'rian', 'lo', 'nanie', 'nia', 'syolalo', 'general', 'kashwant', 'xml', 'units', 'young', 'winner', 'cellular', 'disconfiguration', 'root', 'cause', 'aspect', 'entrepreneurship', 'adobe', 'madelyn', 'milner', 'lookout', 'brane', 'deliver', 'uniform', 'included', 'connecting', 'funneling', 'stages', 'blending', 'sure', 'proot', 'projeect', 'associations', 'able', 'abul', 'thesis', 'pan', 'instructor', 'managed', 'finalist', 'students', 'medal', 'undergraduate', 'studies', 'papers', 'attunement', 'silver', 'ranging', 'supply', 'resource', 'nearly', 'half', 'jos', 'olet', '<unk>']\n"
     ]
    }
   ],
   "metadata": {}
  },
  {
   "cell_type": "markdown",
   "source": [
    "embeddings_dict = {}\r\n",
    "embed_keys = []\r\n",
    "with open(\"glove.6B.100d.txt\", 'r', encoding=\"utf-8\") as f:\r\n",
    "    for line in f:\r\n",
    "        values = line.split()\r\n",
    "        word = values[0]\r\n",
    "        embed_keys.append(word)\r\n",
    "        vector = np.asarray(values[1:], \"float32\")\r\n",
    "        embeddings_dict[word] = vector"
   ],
   "metadata": {}
  },
  {
   "cell_type": "code",
   "execution_count": 25,
   "source": [
    "jd_vec = {}\r\n",
    "unks = 0\r\n",
    "for w in keywords:\r\n",
    "    vecs = []\r\n",
    "    for word in cat[w][0]:\r\n",
    "        if word in dictionary:\r\n",
    "            vecs.append(word2vec.wv.get_vector(word))\r\n",
    "        else:\r\n",
    "            unks+=1\r\n",
    "            vecs.append(word2vec.wv.get_vector('<unk>'))\r\n",
    "    vecs = np.array(vecs)\r\n",
    "    avg = np.average(vecs, axis = 0)\r\n",
    "    jd_vec[w] = avg\r\n",
    "\r\n",
    "print(\"Total unk tokens\" , unks)"
   ],
   "outputs": [
    {
     "output_type": "stream",
     "name": "stdout",
     "text": [
      "Total unk tokens 13\n"
     ]
    }
   ],
   "metadata": {}
  },
  {
   "cell_type": "code",
   "execution_count": 33,
   "source": [
    "sim_df = []\r\n",
    "unks=[]\r\n",
    "all_words = []\r\n",
    "for i in range(len(indexes)):\r\n",
    "    row = []\r\n",
    "    for w in keywords:\r\n",
    "        vecs = []\r\n",
    "        for word in categories[w][i]:\r\n",
    "            all_words.append(word)\r\n",
    "            if word in dictionary:\r\n",
    "                vecs.append(word2vec.wv.get_vector(word))\r\n",
    "            else:\r\n",
    "                unks.append(word)\r\n",
    "                vecs.append(word2vec.wv.get_vector('<unk>'))\r\n",
    "        vecs = np.array(vecs)\r\n",
    "        va = np.average(vecs, axis = 0)\r\n",
    "        cosine = None\r\n",
    "        if np.isnan(va).any():\r\n",
    "            cosine = 0\r\n",
    "        else:\r\n",
    "            vb = jd_vec[w]\r\n",
    "            cosine = dot(va,vb)/(norm(va)*norm(vb))\r\n",
    "        \r\n",
    "        row.append(cosine)\r\n",
    "    \r\n",
    "    sim_df.append(row)\r\n",
    "\r\n",
    "all_words = set(all_words)\r\n",
    "unks = set(unks)\r\n",
    "print(\"Total words extracted are \", len(all_words))\r\n",
    "print(\"Total unk tokens\" , len(unks))"
   ],
   "outputs": [
    {
     "output_type": "stream",
     "name": "stdout",
     "text": [
      "Total words extracted are  2319\n",
      "Total unk tokens 0\n"
     ]
    },
    {
     "output_type": "stream",
     "name": "stderr",
     "text": [
      "C:\\Users\\sriva\\AppData\\Roaming\\Python\\Python39\\site-packages\\numpy\\lib\\function_base.py:380: RuntimeWarning: Mean of empty slice.\n",
      "  avg = a.mean(axis)\n",
      "C:\\Users\\sriva\\AppData\\Roaming\\Python\\Python39\\site-packages\\numpy\\core\\_methods.py:170: RuntimeWarning: invalid value encountered in double_scalars\n",
      "  ret = ret.dtype.type(ret / rcount)\n"
     ]
    }
   ],
   "metadata": {
    "tags": []
   }
  },
  {
   "cell_type": "code",
   "execution_count": 34,
   "source": [
    "# Similartiy Table\r\n",
    "similariy = pd.DataFrame(sim_df, index=indexes, columns=keywords)\r\n",
    "similariy"
   ],
   "outputs": [
    {
     "output_type": "execute_result",
     "data": {
      "text/html": [
       "<div>\n",
       "<style scoped>\n",
       "    .dataframe tbody tr th:only-of-type {\n",
       "        vertical-align: middle;\n",
       "    }\n",
       "\n",
       "    .dataframe tbody tr th {\n",
       "        vertical-align: top;\n",
       "    }\n",
       "\n",
       "    .dataframe thead th {\n",
       "        text-align: right;\n",
       "    }\n",
       "</style>\n",
       "<table border=\"1\" class=\"dataframe\">\n",
       "  <thead>\n",
       "    <tr style=\"text-align: right;\">\n",
       "      <th></th>\n",
       "      <th>personal</th>\n",
       "      <th>projects</th>\n",
       "      <th>experience</th>\n",
       "      <th>skills</th>\n",
       "      <th>education</th>\n",
       "    </tr>\n",
       "  </thead>\n",
       "  <tbody>\n",
       "    <tr>\n",
       "      <th>candidate_000.txt</th>\n",
       "      <td>0.966625</td>\n",
       "      <td>0.365607</td>\n",
       "      <td>0.520925</td>\n",
       "      <td>0.955281</td>\n",
       "      <td>0.898107</td>\n",
       "    </tr>\n",
       "    <tr>\n",
       "      <th>candidate_001.txt</th>\n",
       "      <td>0.911629</td>\n",
       "      <td>0.389317</td>\n",
       "      <td>0.568694</td>\n",
       "      <td>0.920958</td>\n",
       "      <td>0.883792</td>\n",
       "    </tr>\n",
       "    <tr>\n",
       "      <th>candidate_002.txt</th>\n",
       "      <td>0.941745</td>\n",
       "      <td>1.000000</td>\n",
       "      <td>0.621853</td>\n",
       "      <td>0.977745</td>\n",
       "      <td>0.902465</td>\n",
       "    </tr>\n",
       "    <tr>\n",
       "      <th>candidate_003.txt</th>\n",
       "      <td>0.905338</td>\n",
       "      <td>0.234835</td>\n",
       "      <td>0.574854</td>\n",
       "      <td>0.959423</td>\n",
       "      <td>0.908663</td>\n",
       "    </tr>\n",
       "    <tr>\n",
       "      <th>candidate_006.txt</th>\n",
       "      <td>0.956729</td>\n",
       "      <td>0.405046</td>\n",
       "      <td>0.643552</td>\n",
       "      <td>0.953231</td>\n",
       "      <td>0.849037</td>\n",
       "    </tr>\n",
       "    <tr>\n",
       "      <th>...</th>\n",
       "      <td>...</td>\n",
       "      <td>...</td>\n",
       "      <td>...</td>\n",
       "      <td>...</td>\n",
       "      <td>...</td>\n",
       "    </tr>\n",
       "    <tr>\n",
       "      <th>candidate_144.txt</th>\n",
       "      <td>0.971509</td>\n",
       "      <td>0.518020</td>\n",
       "      <td>0.520925</td>\n",
       "      <td>0.972738</td>\n",
       "      <td>0.398747</td>\n",
       "    </tr>\n",
       "    <tr>\n",
       "      <th>candidate_145.txt</th>\n",
       "      <td>0.951034</td>\n",
       "      <td>1.000000</td>\n",
       "      <td>0.620727</td>\n",
       "      <td>0.976338</td>\n",
       "      <td>0.894870</td>\n",
       "    </tr>\n",
       "    <tr>\n",
       "      <th>candidate_147.txt</th>\n",
       "      <td>0.912963</td>\n",
       "      <td>0.242532</td>\n",
       "      <td>0.591480</td>\n",
       "      <td>0.956939</td>\n",
       "      <td>0.669377</td>\n",
       "    </tr>\n",
       "    <tr>\n",
       "      <th>candidate_148.txt</th>\n",
       "      <td>0.933791</td>\n",
       "      <td>0.350090</td>\n",
       "      <td>0.597902</td>\n",
       "      <td>0.964187</td>\n",
       "      <td>0.875844</td>\n",
       "    </tr>\n",
       "    <tr>\n",
       "      <th>candidate_149.txt</th>\n",
       "      <td>0.964931</td>\n",
       "      <td>0.384829</td>\n",
       "      <td>0.520925</td>\n",
       "      <td>0.944945</td>\n",
       "      <td>0.868383</td>\n",
       "    </tr>\n",
       "  </tbody>\n",
       "</table>\n",
       "<p>90 rows × 5 columns</p>\n",
       "</div>"
      ],
      "text/plain": [
       "                   personal  projects  experience    skills  education\n",
       "candidate_000.txt  0.966625  0.365607    0.520925  0.955281   0.898107\n",
       "candidate_001.txt  0.911629  0.389317    0.568694  0.920958   0.883792\n",
       "candidate_002.txt  0.941745  1.000000    0.621853  0.977745   0.902465\n",
       "candidate_003.txt  0.905338  0.234835    0.574854  0.959423   0.908663\n",
       "candidate_006.txt  0.956729  0.405046    0.643552  0.953231   0.849037\n",
       "...                     ...       ...         ...       ...        ...\n",
       "candidate_144.txt  0.971509  0.518020    0.520925  0.972738   0.398747\n",
       "candidate_145.txt  0.951034  1.000000    0.620727  0.976338   0.894870\n",
       "candidate_147.txt  0.912963  0.242532    0.591480  0.956939   0.669377\n",
       "candidate_148.txt  0.933791  0.350090    0.597902  0.964187   0.875844\n",
       "candidate_149.txt  0.964931  0.384829    0.520925  0.944945   0.868383\n",
       "\n",
       "[90 rows x 5 columns]"
      ]
     },
     "metadata": {},
     "execution_count": 34
    }
   ],
   "metadata": {}
  },
  {
   "cell_type": "code",
   "execution_count": 35,
   "source": [
    "similariy.fillna(0, inplace=True)"
   ],
   "outputs": [],
   "metadata": {}
  },
  {
   "cell_type": "code",
   "execution_count": 36,
   "source": [
    "xs = np.array(similariy)"
   ],
   "outputs": [],
   "metadata": {}
  },
  {
   "cell_type": "code",
   "execution_count": 37,
   "source": [
    "target = pd.read_csv('./dataset/train.csv', index_col='CandidateID')\r\n",
    "target.head()"
   ],
   "outputs": [
    {
     "output_type": "execute_result",
     "data": {
      "text/html": [
       "<div>\n",
       "<style scoped>\n",
       "    .dataframe tbody tr th:only-of-type {\n",
       "        vertical-align: middle;\n",
       "    }\n",
       "\n",
       "    .dataframe tbody tr th {\n",
       "        vertical-align: top;\n",
       "    }\n",
       "\n",
       "    .dataframe thead th {\n",
       "        text-align: right;\n",
       "    }\n",
       "</style>\n",
       "<table border=\"1\" class=\"dataframe\">\n",
       "  <thead>\n",
       "    <tr style=\"text-align: right;\">\n",
       "      <th></th>\n",
       "      <th>Match Percentage</th>\n",
       "    </tr>\n",
       "    <tr>\n",
       "      <th>CandidateID</th>\n",
       "      <th></th>\n",
       "    </tr>\n",
       "  </thead>\n",
       "  <tbody>\n",
       "    <tr>\n",
       "      <th>candidate_011</th>\n",
       "      <td>13.60</td>\n",
       "    </tr>\n",
       "    <tr>\n",
       "      <th>candidate_113</th>\n",
       "      <td>36.63</td>\n",
       "    </tr>\n",
       "    <tr>\n",
       "      <th>candidate_123</th>\n",
       "      <td>54.93</td>\n",
       "    </tr>\n",
       "    <tr>\n",
       "      <th>candidate_012</th>\n",
       "      <td>41.46</td>\n",
       "    </tr>\n",
       "    <tr>\n",
       "      <th>candidate_002</th>\n",
       "      <td>48.91</td>\n",
       "    </tr>\n",
       "  </tbody>\n",
       "</table>\n",
       "</div>"
      ],
      "text/plain": [
       "               Match Percentage\n",
       "CandidateID                    \n",
       "candidate_011             13.60\n",
       "candidate_113             36.63\n",
       "candidate_123             54.93\n",
       "candidate_012             41.46\n",
       "candidate_002             48.91"
      ]
     },
     "metadata": {},
     "execution_count": 37
    }
   ],
   "metadata": {}
  },
  {
   "cell_type": "code",
   "execution_count": 38,
   "source": [
    "ys = []\r\n",
    "for i in indexes:\r\n",
    "    ys.append(target.loc[i[:-4]]['Match Percentage']/100)\r\n",
    "ys = np.array(ys, dtype = np.float32)"
   ],
   "outputs": [],
   "metadata": {
    "tags": []
   }
  },
  {
   "cell_type": "code",
   "execution_count": 39,
   "source": [
    "xs = xs.astype(np.float32)\r\n",
    "ys = ys.astype(np.float32)\r\n",
    "print(xs.shape)\r\n",
    "print(ys.shape)"
   ],
   "outputs": [
    {
     "output_type": "stream",
     "name": "stdout",
     "text": [
      "(90, 5)\n",
      "(90,)\n"
     ]
    }
   ],
   "metadata": {}
  },
  {
   "cell_type": "code",
   "execution_count": 40,
   "source": [
    "from sklearn.model_selection import train_test_split\r\n",
    "X_train, X_test, y_train, y_test = train_test_split(xs, ys, test_size = 0.1, random_state = 42)"
   ],
   "outputs": [],
   "metadata": {}
  },
  {
   "cell_type": "code",
   "execution_count": 41,
   "source": [
    "from keras.models import Sequential, Model\r\n",
    "from keras.layers import Dense , Dropout, Activation\r\n"
   ],
   "outputs": [],
   "metadata": {}
  },
  {
   "cell_type": "code",
   "execution_count": 52,
   "source": [
    "def build_model():\r\n",
    "    model = Sequential()\r\n",
    "    model.add(Dense(8, input_shape =[5,]))\r\n",
    "    model.add(Dense(8))\r\n",
    "    model.add(Dense(1))\r\n",
    "    model.compile(optimizer='adam', loss='mse', metrics =['mse'])\r\n",
    "    return model"
   ],
   "outputs": [],
   "metadata": {}
  },
  {
   "cell_type": "code",
   "execution_count": 53,
   "source": [
    "model = build_model()\r\n",
    "model.summary()"
   ],
   "outputs": [
    {
     "output_type": "stream",
     "name": "stdout",
     "text": [
      "Model: \"sequential\"\n",
      "_________________________________________________________________\n",
      "Layer (type)                 Output Shape              Param #   \n",
      "=================================================================\n",
      "dense (Dense)                (None, 8)                 48        \n",
      "_________________________________________________________________\n",
      "dense_1 (Dense)              (None, 8)                 72        \n",
      "_________________________________________________________________\n",
      "dense_2 (Dense)              (None, 1)                 9         \n",
      "=================================================================\n",
      "Total params: 129\n",
      "Trainable params: 129\n",
      "Non-trainable params: 0\n",
      "_________________________________________________________________\n"
     ]
    }
   ],
   "metadata": {}
  },
  {
   "cell_type": "code",
   "execution_count": 54,
   "source": [
    "history = model.fit(X_train,y_train, epochs=100,validation_data=(X_test,y_test))"
   ],
   "outputs": [
    {
     "output_type": "stream",
     "name": "stdout",
     "text": [
      "Epoch 1/100\n",
      "3/3 [==============================] - 4s 339ms/step - loss: 0.5858 - mse: 0.5858 - val_loss: 0.6778 - val_mse: 0.6778\n",
      "Epoch 2/100\n",
      "3/3 [==============================] - 0s 34ms/step - loss: 0.4130 - mse: 0.4130 - val_loss: 0.5018 - val_mse: 0.5018\n",
      "Epoch 3/100\n",
      "3/3 [==============================] - 0s 57ms/step - loss: 0.2823 - mse: 0.2823 - val_loss: 0.3662 - val_mse: 0.3662\n",
      "Epoch 4/100\n",
      "3/3 [==============================] - 0s 42ms/step - loss: 0.1882 - mse: 0.1882 - val_loss: 0.2687 - val_mse: 0.2687\n",
      "Epoch 5/100\n",
      "3/3 [==============================] - 0s 48ms/step - loss: 0.1307 - mse: 0.1307 - val_loss: 0.2044 - val_mse: 0.2044\n",
      "Epoch 6/100\n",
      "3/3 [==============================] - 0s 46ms/step - loss: 0.0971 - mse: 0.0971 - val_loss: 0.1666 - val_mse: 0.1666\n",
      "Epoch 7/100\n",
      "3/3 [==============================] - 0s 50ms/step - loss: 0.0890 - mse: 0.0890 - val_loss: 0.1462 - val_mse: 0.1462\n",
      "Epoch 8/100\n",
      "3/3 [==============================] - 0s 40ms/step - loss: 0.0888 - mse: 0.0888 - val_loss: 0.1361 - val_mse: 0.1361\n",
      "Epoch 9/100\n",
      "3/3 [==============================] - 0s 57ms/step - loss: 0.0923 - mse: 0.0923 - val_loss: 0.1303 - val_mse: 0.1303\n",
      "Epoch 10/100\n",
      "3/3 [==============================] - 0s 48ms/step - loss: 0.0936 - mse: 0.0936 - val_loss: 0.1259 - val_mse: 0.1259\n",
      "Epoch 11/100\n",
      "3/3 [==============================] - 0s 53ms/step - loss: 0.0910 - mse: 0.0910 - val_loss: 0.1223 - val_mse: 0.1223\n",
      "Epoch 12/100\n",
      "3/3 [==============================] - 0s 48ms/step - loss: 0.0852 - mse: 0.0852 - val_loss: 0.1196 - val_mse: 0.1196\n",
      "Epoch 13/100\n",
      "3/3 [==============================] - 0s 43ms/step - loss: 0.0783 - mse: 0.0783 - val_loss: 0.1189 - val_mse: 0.1189\n",
      "Epoch 14/100\n",
      "3/3 [==============================] - 0s 34ms/step - loss: 0.0716 - mse: 0.0716 - val_loss: 0.1200 - val_mse: 0.1200\n",
      "Epoch 15/100\n",
      "3/3 [==============================] - 0s 24ms/step - loss: 0.0674 - mse: 0.0674 - val_loss: 0.1224 - val_mse: 0.1224\n",
      "Epoch 16/100\n",
      "3/3 [==============================] - 0s 26ms/step - loss: 0.0636 - mse: 0.0636 - val_loss: 0.1244 - val_mse: 0.1244\n",
      "Epoch 17/100\n",
      "3/3 [==============================] - 0s 24ms/step - loss: 0.0616 - mse: 0.0616 - val_loss: 0.1258 - val_mse: 0.1258\n",
      "Epoch 18/100\n",
      "3/3 [==============================] - 0s 29ms/step - loss: 0.0599 - mse: 0.0599 - val_loss: 0.1251 - val_mse: 0.1251\n",
      "Epoch 19/100\n",
      "3/3 [==============================] - 0s 27ms/step - loss: 0.0581 - mse: 0.0581 - val_loss: 0.1227 - val_mse: 0.1227\n",
      "Epoch 20/100\n",
      "3/3 [==============================] - 0s 22ms/step - loss: 0.0562 - mse: 0.0562 - val_loss: 0.1192 - val_mse: 0.1192\n",
      "Epoch 21/100\n",
      "3/3 [==============================] - 0s 25ms/step - loss: 0.0541 - mse: 0.0541 - val_loss: 0.1143 - val_mse: 0.1143\n",
      "Epoch 22/100\n",
      "3/3 [==============================] - 0s 15ms/step - loss: 0.0518 - mse: 0.0518 - val_loss: 0.1092 - val_mse: 0.1092\n",
      "Epoch 23/100\n",
      "3/3 [==============================] - 0s 12ms/step - loss: 0.0497 - mse: 0.0497 - val_loss: 0.1040 - val_mse: 0.1040\n",
      "Epoch 24/100\n",
      "3/3 [==============================] - 0s 14ms/step - loss: 0.0483 - mse: 0.0483 - val_loss: 0.0989 - val_mse: 0.0989\n",
      "Epoch 25/100\n",
      "3/3 [==============================] - 0s 14ms/step - loss: 0.0462 - mse: 0.0462 - val_loss: 0.0955 - val_mse: 0.0955\n",
      "Epoch 26/100\n",
      "3/3 [==============================] - 0s 13ms/step - loss: 0.0449 - mse: 0.0449 - val_loss: 0.0922 - val_mse: 0.0922\n",
      "Epoch 27/100\n",
      "3/3 [==============================] - 0s 13ms/step - loss: 0.0435 - mse: 0.0435 - val_loss: 0.0897 - val_mse: 0.0897\n",
      "Epoch 28/100\n",
      "3/3 [==============================] - 0s 11ms/step - loss: 0.0423 - mse: 0.0423 - val_loss: 0.0878 - val_mse: 0.0878\n",
      "Epoch 29/100\n",
      "3/3 [==============================] - 0s 13ms/step - loss: 0.0409 - mse: 0.0409 - val_loss: 0.0861 - val_mse: 0.0861\n",
      "Epoch 30/100\n",
      "3/3 [==============================] - 0s 13ms/step - loss: 0.0397 - mse: 0.0397 - val_loss: 0.0850 - val_mse: 0.0850\n",
      "Epoch 31/100\n",
      "3/3 [==============================] - 0s 11ms/step - loss: 0.0386 - mse: 0.0386 - val_loss: 0.0833 - val_mse: 0.0833\n",
      "Epoch 32/100\n",
      "3/3 [==============================] - 0s 13ms/step - loss: 0.0375 - mse: 0.0375 - val_loss: 0.0819 - val_mse: 0.0819\n",
      "Epoch 33/100\n",
      "3/3 [==============================] - 0s 13ms/step - loss: 0.0366 - mse: 0.0366 - val_loss: 0.0804 - val_mse: 0.0804\n",
      "Epoch 34/100\n",
      "3/3 [==============================] - 0s 13ms/step - loss: 0.0356 - mse: 0.0356 - val_loss: 0.0790 - val_mse: 0.0790\n",
      "Epoch 35/100\n",
      "3/3 [==============================] - 0s 14ms/step - loss: 0.0347 - mse: 0.0347 - val_loss: 0.0769 - val_mse: 0.0769\n",
      "Epoch 36/100\n",
      "3/3 [==============================] - 0s 13ms/step - loss: 0.0338 - mse: 0.0338 - val_loss: 0.0754 - val_mse: 0.0754\n",
      "Epoch 37/100\n",
      "3/3 [==============================] - 0s 13ms/step - loss: 0.0331 - mse: 0.0331 - val_loss: 0.0743 - val_mse: 0.0743\n",
      "Epoch 38/100\n",
      "3/3 [==============================] - 0s 13ms/step - loss: 0.0323 - mse: 0.0323 - val_loss: 0.0729 - val_mse: 0.0729\n",
      "Epoch 39/100\n",
      "3/3 [==============================] - 0s 13ms/step - loss: 0.0317 - mse: 0.0317 - val_loss: 0.0720 - val_mse: 0.0720\n",
      "Epoch 40/100\n",
      "3/3 [==============================] - 0s 14ms/step - loss: 0.0312 - mse: 0.0312 - val_loss: 0.0704 - val_mse: 0.0704\n",
      "Epoch 41/100\n",
      "3/3 [==============================] - 0s 12ms/step - loss: 0.0305 - mse: 0.0305 - val_loss: 0.0698 - val_mse: 0.0698\n",
      "Epoch 42/100\n",
      "3/3 [==============================] - 0s 12ms/step - loss: 0.0299 - mse: 0.0299 - val_loss: 0.0685 - val_mse: 0.0685\n",
      "Epoch 43/100\n",
      "3/3 [==============================] - 0s 14ms/step - loss: 0.0295 - mse: 0.0295 - val_loss: 0.0671 - val_mse: 0.0671\n",
      "Epoch 44/100\n",
      "3/3 [==============================] - 0s 11ms/step - loss: 0.0290 - mse: 0.0290 - val_loss: 0.0661 - val_mse: 0.0661\n",
      "Epoch 45/100\n",
      "3/3 [==============================] - 0s 13ms/step - loss: 0.0286 - mse: 0.0286 - val_loss: 0.0646 - val_mse: 0.0646\n",
      "Epoch 46/100\n",
      "3/3 [==============================] - 0s 13ms/step - loss: 0.0281 - mse: 0.0281 - val_loss: 0.0633 - val_mse: 0.0633\n",
      "Epoch 47/100\n",
      "3/3 [==============================] - 0s 12ms/step - loss: 0.0278 - mse: 0.0278 - val_loss: 0.0620 - val_mse: 0.0620\n",
      "Epoch 48/100\n",
      "3/3 [==============================] - 0s 12ms/step - loss: 0.0274 - mse: 0.0274 - val_loss: 0.0611 - val_mse: 0.0611\n",
      "Epoch 49/100\n",
      "3/3 [==============================] - 0s 12ms/step - loss: 0.0271 - mse: 0.0271 - val_loss: 0.0605 - val_mse: 0.0605\n",
      "Epoch 50/100\n",
      "3/3 [==============================] - 0s 13ms/step - loss: 0.0267 - mse: 0.0267 - val_loss: 0.0600 - val_mse: 0.0600\n",
      "Epoch 51/100\n",
      "3/3 [==============================] - 0s 11ms/step - loss: 0.0264 - mse: 0.0264 - val_loss: 0.0595 - val_mse: 0.0595\n",
      "Epoch 52/100\n",
      "3/3 [==============================] - 0s 14ms/step - loss: 0.0263 - mse: 0.0263 - val_loss: 0.0591 - val_mse: 0.0591\n",
      "Epoch 53/100\n",
      "3/3 [==============================] - 0s 12ms/step - loss: 0.0260 - mse: 0.0260 - val_loss: 0.0582 - val_mse: 0.0582\n",
      "Epoch 54/100\n",
      "3/3 [==============================] - 0s 14ms/step - loss: 0.0258 - mse: 0.0258 - val_loss: 0.0574 - val_mse: 0.0574\n",
      "Epoch 55/100\n",
      "3/3 [==============================] - 0s 13ms/step - loss: 0.0255 - mse: 0.0255 - val_loss: 0.0561 - val_mse: 0.0561\n",
      "Epoch 56/100\n",
      "3/3 [==============================] - 0s 12ms/step - loss: 0.0254 - mse: 0.0254 - val_loss: 0.0551 - val_mse: 0.0551\n",
      "Epoch 57/100\n",
      "3/3 [==============================] - 0s 12ms/step - loss: 0.0252 - mse: 0.0252 - val_loss: 0.0547 - val_mse: 0.0547\n",
      "Epoch 58/100\n",
      "3/3 [==============================] - 0s 12ms/step - loss: 0.0251 - mse: 0.0251 - val_loss: 0.0550 - val_mse: 0.0550\n",
      "Epoch 59/100\n",
      "3/3 [==============================] - 0s 12ms/step - loss: 0.0249 - mse: 0.0249 - val_loss: 0.0551 - val_mse: 0.0551\n",
      "Epoch 60/100\n",
      "3/3 [==============================] - 0s 12ms/step - loss: 0.0247 - mse: 0.0247 - val_loss: 0.0548 - val_mse: 0.0548\n",
      "Epoch 61/100\n",
      "3/3 [==============================] - 0s 12ms/step - loss: 0.0247 - mse: 0.0247 - val_loss: 0.0542 - val_mse: 0.0542\n",
      "Epoch 62/100\n",
      "3/3 [==============================] - 0s 13ms/step - loss: 0.0245 - mse: 0.0245 - val_loss: 0.0532 - val_mse: 0.0532\n",
      "Epoch 63/100\n",
      "3/3 [==============================] - 0s 14ms/step - loss: 0.0244 - mse: 0.0244 - val_loss: 0.0528 - val_mse: 0.0528\n",
      "Epoch 64/100\n",
      "3/3 [==============================] - 0s 11ms/step - loss: 0.0243 - mse: 0.0243 - val_loss: 0.0523 - val_mse: 0.0523\n",
      "Epoch 65/100\n",
      "3/3 [==============================] - 0s 13ms/step - loss: 0.0242 - mse: 0.0242 - val_loss: 0.0515 - val_mse: 0.0515\n",
      "Epoch 66/100\n",
      "3/3 [==============================] - 0s 12ms/step - loss: 0.0241 - mse: 0.0241 - val_loss: 0.0507 - val_mse: 0.0507\n",
      "Epoch 67/100\n",
      "3/3 [==============================] - 0s 12ms/step - loss: 0.0241 - mse: 0.0241 - val_loss: 0.0502 - val_mse: 0.0502\n",
      "Epoch 68/100\n",
      "3/3 [==============================] - 0s 13ms/step - loss: 0.0240 - mse: 0.0240 - val_loss: 0.0500 - val_mse: 0.0500\n",
      "Epoch 69/100\n",
      "3/3 [==============================] - 0s 12ms/step - loss: 0.0239 - mse: 0.0239 - val_loss: 0.0501 - val_mse: 0.0501\n",
      "Epoch 70/100\n",
      "3/3 [==============================] - 0s 12ms/step - loss: 0.0238 - mse: 0.0238 - val_loss: 0.0499 - val_mse: 0.0499\n",
      "Epoch 71/100\n",
      "3/3 [==============================] - 0s 13ms/step - loss: 0.0238 - mse: 0.0238 - val_loss: 0.0494 - val_mse: 0.0494\n",
      "Epoch 72/100\n",
      "3/3 [==============================] - 0s 11ms/step - loss: 0.0237 - mse: 0.0237 - val_loss: 0.0495 - val_mse: 0.0495\n",
      "Epoch 73/100\n",
      "3/3 [==============================] - 0s 14ms/step - loss: 0.0237 - mse: 0.0237 - val_loss: 0.0496 - val_mse: 0.0496\n",
      "Epoch 74/100\n",
      "3/3 [==============================] - 0s 12ms/step - loss: 0.0237 - mse: 0.0237 - val_loss: 0.0500 - val_mse: 0.0500\n",
      "Epoch 75/100\n",
      "3/3 [==============================] - 0s 12ms/step - loss: 0.0237 - mse: 0.0237 - val_loss: 0.0491 - val_mse: 0.0491\n",
      "Epoch 76/100\n",
      "3/3 [==============================] - 0s 13ms/step - loss: 0.0236 - mse: 0.0236 - val_loss: 0.0490 - val_mse: 0.0490\n",
      "Epoch 77/100\n",
      "3/3 [==============================] - 0s 12ms/step - loss: 0.0235 - mse: 0.0235 - val_loss: 0.0477 - val_mse: 0.0477\n",
      "Epoch 78/100\n",
      "3/3 [==============================] - 0s 12ms/step - loss: 0.0235 - mse: 0.0235 - val_loss: 0.0471 - val_mse: 0.0471\n",
      "Epoch 79/100\n",
      "3/3 [==============================] - 0s 13ms/step - loss: 0.0234 - mse: 0.0234 - val_loss: 0.0465 - val_mse: 0.0465\n",
      "Epoch 80/100\n",
      "3/3 [==============================] - 0s 12ms/step - loss: 0.0235 - mse: 0.0235 - val_loss: 0.0464 - val_mse: 0.0464\n",
      "Epoch 81/100\n",
      "3/3 [==============================] - 0s 14ms/step - loss: 0.0234 - mse: 0.0234 - val_loss: 0.0465 - val_mse: 0.0465\n",
      "Epoch 82/100\n",
      "3/3 [==============================] - 0s 17ms/step - loss: 0.0234 - mse: 0.0234 - val_loss: 0.0462 - val_mse: 0.0462\n",
      "Epoch 83/100\n",
      "3/3 [==============================] - 0s 17ms/step - loss: 0.0233 - mse: 0.0233 - val_loss: 0.0470 - val_mse: 0.0470\n",
      "Epoch 84/100\n",
      "3/3 [==============================] - 0s 13ms/step - loss: 0.0232 - mse: 0.0232 - val_loss: 0.0481 - val_mse: 0.0481\n",
      "Epoch 85/100\n",
      "3/3 [==============================] - 0s 12ms/step - loss: 0.0234 - mse: 0.0234 - val_loss: 0.0494 - val_mse: 0.0494\n",
      "Epoch 86/100\n",
      "3/3 [==============================] - 0s 11ms/step - loss: 0.0233 - mse: 0.0233 - val_loss: 0.0490 - val_mse: 0.0490\n",
      "Epoch 87/100\n",
      "3/3 [==============================] - 0s 12ms/step - loss: 0.0233 - mse: 0.0233 - val_loss: 0.0480 - val_mse: 0.0480\n",
      "Epoch 88/100\n",
      "3/3 [==============================] - 0s 13ms/step - loss: 0.0234 - mse: 0.0234 - val_loss: 0.0468 - val_mse: 0.0468\n",
      "Epoch 89/100\n",
      "3/3 [==============================] - 0s 12ms/step - loss: 0.0232 - mse: 0.0232 - val_loss: 0.0464 - val_mse: 0.0464\n",
      "Epoch 90/100\n",
      "3/3 [==============================] - 0s 13ms/step - loss: 0.0232 - mse: 0.0232 - val_loss: 0.0464 - val_mse: 0.0464\n",
      "Epoch 91/100\n",
      "3/3 [==============================] - 0s 11ms/step - loss: 0.0231 - mse: 0.0231 - val_loss: 0.0460 - val_mse: 0.0460\n",
      "Epoch 92/100\n",
      "3/3 [==============================] - 0s 12ms/step - loss: 0.0231 - mse: 0.0231 - val_loss: 0.0460 - val_mse: 0.0460\n",
      "Epoch 93/100\n",
      "3/3 [==============================] - 0s 13ms/step - loss: 0.0232 - mse: 0.0232 - val_loss: 0.0455 - val_mse: 0.0455\n",
      "Epoch 94/100\n",
      "3/3 [==============================] - 0s 14ms/step - loss: 0.0231 - mse: 0.0231 - val_loss: 0.0461 - val_mse: 0.0461\n",
      "Epoch 95/100\n",
      "3/3 [==============================] - 0s 12ms/step - loss: 0.0231 - mse: 0.0231 - val_loss: 0.0465 - val_mse: 0.0465\n",
      "Epoch 96/100\n",
      "3/3 [==============================] - 0s 12ms/step - loss: 0.0231 - mse: 0.0231 - val_loss: 0.0470 - val_mse: 0.0470\n",
      "Epoch 97/100\n",
      "3/3 [==============================] - 0s 12ms/step - loss: 0.0230 - mse: 0.0230 - val_loss: 0.0463 - val_mse: 0.0463\n",
      "Epoch 98/100\n",
      "3/3 [==============================] - 0s 13ms/step - loss: 0.0230 - mse: 0.0230 - val_loss: 0.0457 - val_mse: 0.0457\n",
      "Epoch 99/100\n",
      "3/3 [==============================] - 0s 13ms/step - loss: 0.0231 - mse: 0.0231 - val_loss: 0.0450 - val_mse: 0.0450\n",
      "Epoch 100/100\n",
      "3/3 [==============================] - 0s 12ms/step - loss: 0.0230 - mse: 0.0230 - val_loss: 0.0455 - val_mse: 0.0455\n"
     ]
    }
   ],
   "metadata": {}
  },
  {
   "cell_type": "code",
   "execution_count": 55,
   "source": [
    "import matplotlib.pyplot as plt\r\n",
    "plt.plot(history.history['mse'])\r\n",
    "plt.plot(history.history['val_mse'])\r\n",
    "plt.title('model accuracy')\r\n",
    "plt.ylabel('accuracy')\r\n",
    "plt.xlabel('epoch')\r\n",
    "plt.legend(['train', 'test'], loc='upper left')\r\n",
    "plt.show()"
   ],
   "outputs": [
    {
     "output_type": "display_data",
     "data": {
      "image/png": "[encoded data removed]",
      "text/plain": [
       "<Figure size 432x288 with 1 Axes>"
      ]
     },
     "metadata": {
      "needs_background": "light"
     }
    }
   ],
   "metadata": {}
  },
  {
   "cell_type": "code",
   "execution_count": 56,
   "source": [
    "#Testing\r\n",
    "dir = os.listdir('./test_txt/')\r\n",
    "test_cat, test_index = read_txt('./test_txt/',dir)"
   ],
   "outputs": [],
   "metadata": {}
  },
  {
   "cell_type": "code",
   "execution_count": 57,
   "source": [
    "test_df = []\r\n",
    "for i in range(len(test_index)):\r\n",
    "    row = []\r\n",
    "    for w in keywords:\r\n",
    "        vecs = []\r\n",
    "        for word in test_cat[w][i]:\r\n",
    "            if word in dictionary:\r\n",
    "                vecs.append(word2vec.wv.get_vector(word))\r\n",
    "            else:\r\n",
    "                vecs.append(word2vec.wv.get_vector('<unk>'))\r\n",
    "        vecs = np.array(vecs)\r\n",
    "        va = np.average(vecs, axis = 0)\r\n",
    "        cosine = None\r\n",
    "        if np.isnan(va).any():\r\n",
    "            cosine = 0\r\n",
    "        else:\r\n",
    "            vb = jd_vec[w]\r\n",
    "            cosine = dot(va,vb)/(norm(va)*norm(vb))\r\n",
    "        \r\n",
    "        row.append(cosine)\r\n",
    "    \r\n",
    "    test_df.append(row)"
   ],
   "outputs": [
    {
     "output_type": "stream",
     "name": "stderr",
     "text": [
      "C:\\Users\\sriva\\AppData\\Roaming\\Python\\Python39\\site-packages\\numpy\\lib\\function_base.py:380: RuntimeWarning: Mean of empty slice.\n",
      "  avg = a.mean(axis)\n",
      "C:\\Users\\sriva\\AppData\\Roaming\\Python\\Python39\\site-packages\\numpy\\core\\_methods.py:170: RuntimeWarning: invalid value encountered in double_scalars\n",
      "  ret = ret.dtype.type(ret / rcount)\n"
     ]
    }
   ],
   "metadata": {}
  },
  {
   "cell_type": "code",
   "execution_count": 58,
   "source": [
    "test_sim = pd.DataFrame(test_df, index=test_index, columns=keywords)\r\n",
    "test_sim.info()"
   ],
   "outputs": [
    {
     "output_type": "stream",
     "name": "stdout",
     "text": [
      "<class 'pandas.core.frame.DataFrame'>\n",
      "Index: 60 entries, candidate_004.txt to candidate_146.txt\n",
      "Data columns (total 5 columns):\n",
      " #   Column      Non-Null Count  Dtype  \n",
      "---  ------      --------------  -----  \n",
      " 0   personal    60 non-null     float64\n",
      " 1   projects    60 non-null     float32\n",
      " 2   experience  60 non-null     float32\n",
      " 3   skills      60 non-null     float32\n",
      " 4   education   60 non-null     float32\n",
      "dtypes: float32(4), float64(1)\n",
      "memory usage: 1.9+ KB\n"
     ]
    }
   ],
   "metadata": {}
  },
  {
   "cell_type": "code",
   "execution_count": 59,
   "source": [
    "txs = np.array(test_sim)\r\n",
    "print(txs.shape)"
   ],
   "outputs": [
    {
     "output_type": "stream",
     "name": "stdout",
     "text": [
      "(60, 5)\n"
     ]
    }
   ],
   "metadata": {}
  },
  {
   "cell_type": "code",
   "execution_count": 60,
   "source": [
    "ans = model.predict(txs)\r\n",
    "ans = np.reshape(ans, (ans.shape[0],1))\r\n",
    "ans = ans*100 "
   ],
   "outputs": [],
   "metadata": {}
  },
  {
   "cell_type": "code",
   "execution_count": 48,
   "source": [
    "def write(ans,test_index):\r\n",
    "    ans = np.reshape(ans, (ans.shape[0],1))\r\n",
    "    ans_index = np.array([x[:-4] for x in test_index])\r\n",
    "    ans_index = np.reshape(np.ravel(ans_index) , ans.shape)\r\n",
    "    ans = np.concatenate([ans_index,ans] , axis = 1)\r\n",
    "    ans_df = pd.DataFrame(ans, index=None, columns=['CandidateID','Match Percentage'])\r\n",
    "    print(\"Written new file\")\r\n",
    "    ans_df.to_csv('submission.csv',index=None)\r\n"
   ],
   "outputs": [],
   "metadata": {}
  },
  {
   "cell_type": "code",
   "execution_count": 61,
   "source": [
    "write(ans, test_index)"
   ],
   "outputs": [
    {
     "output_type": "stream",
     "name": "stdout",
     "text": [
      "Written new file\n"
     ]
    }
   ],
   "metadata": {}
  },
  {
   "cell_type": "code",
   "execution_count": 63,
   "source": [
    "## Trying other models\r\n",
    "from sklearn.svm import SVR\r\n",
    "svr = SVR(C=5.0,epsilon=0.9)\r\n",
    "svr.fit(xs,ys)\r\n",
    "ans_ =svr.predict(txs)\r\n",
    "ans_ = np.reshape(ans_, (ans_.shape[0],1))\r\n",
    "ans_ = ans_*100\r\n",
    "\r\n",
    "write(ans_, test_index)"
   ],
   "outputs": [
    {
     "output_type": "stream",
     "name": "stdout",
     "text": [
      "Written new file\n"
     ]
    }
   ],
   "metadata": {}
  },
  {
   "cell_type": "code",
   "execution_count": 66,
   "source": [
    "from sklearn.linear_model import Ridge\r\n",
    "ridge = Ridge(alpha=10)\r\n",
    "ridge.fit(xs,ys)\r\n",
    "ansr = ridge.predict(txs)\r\n",
    "ansr = ansr*100\r\n",
    "write(ansr, test_index)"
   ],
   "outputs": [
    {
     "output_type": "stream",
     "name": "stdout",
     "text": [
      "Written new file\n"
     ]
    }
   ],
   "metadata": {}
  },
  {
   "cell_type": "code",
   "execution_count": 122,
   "source": [
    "take = np.copy(ans_)\r\n",
    "for c in [1,5,10,80,110,120]:\r\n",
    "    for e in [0.1, 0.002, 0.3, 0.83, 0.99]:\r\n",
    "        svr = SVR(C = c, epsilon=e)\r\n",
    "        svr.fit(xs,ys)\r\n",
    "        ansx = svr.predict(txs)\r\n",
    "        ansx = np.array([max(i,0) for i in ansx])\r\n",
    "        ansx = np.reshape(ansx, (ansx.shape[0],1))\r\n",
    "        ansx = ansx*100\r\n",
    "        take = np.concatenate([take,ansx],axis = 1)\r\n",
    "        \r\n",
    "\r\n",
    "print(take.shape)"
   ],
   "outputs": [
    {
     "output_type": "stream",
     "name": "stdout",
     "text": [
      "(60, 31)\n"
     ]
    }
   ],
   "metadata": {}
  },
  {
   "cell_type": "code",
   "execution_count": 123,
   "source": [
    "# xx = np.concatenate([ans,ans_], axis = 1)\r\n",
    "# xx = np.max(xx, axis = 1)\r\n",
    "# xx\r\n",
    "take = np.min(take, axis =1)\r\n",
    "write(take, test_index)"
   ],
   "outputs": [
    {
     "output_type": "stream",
     "name": "stdout",
     "text": [
      "Written new file\n"
     ]
    }
   ],
   "metadata": {}
  },
  {
   "cell_type": "code",
   "execution_count": 77,
   "source": [
    "# write(xx, test_index)"
   ],
   "outputs": [],
   "metadata": {}
  },
  {
   "cell_type": "code",
   "execution_count": 83,
   "source": [
    "sim_df"
   ],
   "outputs": [
    {
     "output_type": "execute_result",
     "data": {
      "text/plain": [
       "[[0.8883778, 0.29592833, 0.415252, 0.6364191, 0.8569552],\n",
       " [0.61097926, 0.23415965, 0.77697176, 0.7627605, 0.88227266],\n",
       " [0.66810286, 1.0, 0.62066585, 0.92462736, 0.75430495],\n",
       " [0.6947064, 0.37840423, 0.6942319, 0.8254774, 0.7708976],\n",
       " [0.9067139, 0.3005535, 0.76933324, 0.8814044, 0.77308196],\n",
       " [0.8622184, 0.26828837, 0.5923649, 0.8857072, 0.8472573],\n",
       " [0.7662991, 0.29844406, 0.71198624, 0.89622736, 0.8148804],\n",
       " [0.87884367, 1.0, 0.7653649, 0.9167172, 0.70842457],\n",
       " [0.8062151, 0.37531516, 0.7211594, 0.62105846, 0.8475659],\n",
       " [0.89601, 1.0, 0.7691308, 0.49025878, 0.39326173],\n",
       " [0.8031282, 0.39070997, 0.415252, 0.9175321, 0.39326173],\n",
       " [0.65824354, 0.28509477, 0.71453303, 0.80462074, 0.76407284],\n",
       " [0.8402332, 0.20913859, 0.7447718, 0.841462, 0.75217324],\n",
       " [0.66937876, 0.32378915, 0.7058372, 0.8362547, 0.8839337],\n",
       " [0.9144753, 0.27800855, 0.78372127, 0.9103799, 0.7644413],\n",
       " [0.8660931, 0.38663623, 0.6984991, 0.9099471, 0.70065427],\n",
       " [0.86044085, 1.0, 0.73467994, 0.49025878, 0.39326173],\n",
       " [0.6806485, 0.29538748, 0.72818077, 0.749548, 0.6854135],\n",
       " [0.9140072, 0.27477443, 0.415252, 0.9182949, 0.39326173],\n",
       " [0.851659, 0.24861316, 0.415252, 0.93092614, 0.86394864],\n",
       " [0.75155514, 0.2873466, 0.7058372, 0.90734726, 0.8878072],\n",
       " [0.6037494, 0.35527787, 0.76822895, 0.49025878, 0.39326173],\n",
       " [0.7138633, 0.24816963, 0.7846928, 0.92040193, 0.39326173],\n",
       " [0.8890592, 0.25686887, 0.74764687, 0.85102457, 0.85443014],\n",
       " [0.92772603, 1.0, 0.7942088, 0.49025878, 0.39326173],\n",
       " [0.07408005, 0.50618666, 0.47461602, 0.8691955, 0.80362475],\n",
       " [0.84089243, 1.0, 0.7637397, 0.9179034, 0.68025076],\n",
       " [0.8149218, 0.36835688, 0.7058372, 0.9130491, 0.81687886],\n",
       " [0.86224735, 0.31517112, 0.415252, 0.86995476, 0.39326173],\n",
       " [0.8877769, 0.33521512, 0.415252, 0.23967943, 0.7717984],\n",
       " [0.80458295, 0.31494084, 0.7099685, 0.89112735, 0.7092982],\n",
       " [0.91874766, 0.30628473, 0.8179988, 0.821967, 0.7449819],\n",
       " [0.6988357, 0.36837748, 0.7906754, 0.7769171, 0.7877612],\n",
       " [0.88200486, 1.0, 0.7882117, 0.9305172, 0.8185422],\n",
       " [0.50783354, 0.042943645, 0.7058372, 0.9001447, 0.8338341],\n",
       " [0.86946154, 0.33080402, 0.415252, 0.9169496, 0.39326173],\n",
       " [0.87572366, 0.2659745, 0.415252, 0.8954288, 0.7849054],\n",
       " [0.9080947, 0.26223147, 0.7698096, 0.9115295, 0.7644107],\n",
       " [0.9141654, 0.37733245, 0.4937187, 0.8574474, 0.6142596],\n",
       " [0.89453566, 0.2799582, 0.7265019, 0.9184636, 0.83008385],\n",
       " [0.90686554, 1.0, 0.75350356, 0.49025878, 0.39326173],\n",
       " [0.64463484, 0.33525267, 0.6887802, 0.83380103, 0.8527586],\n",
       " [0.7000755, 0.26496503, 0.7539118, 0.92999655, 0.39326173],\n",
       " [0.9241676, 1.0, 0.70972043, 0.9306324, 0.66539556],\n",
       " [0.61516684, 0.26481506, 0.7048936, 0.90172195, 0.7027919],\n",
       " [0, 1.0, 0.7621391, 0.49025878, 0.39326173],\n",
       " [0.8361417, 0.29593673, 0.415252, 0.9376426, 0.39326173],\n",
       " [0.60555094, 0.29398492, 0.7863865, 0.8043748, 0.86535287],\n",
       " [0.6012666, 0.34641492, 0.7279129, 0.49025878, 0.39326173],\n",
       " [0.8150575, 0.38822174, 0.61265624, 0.8932668, 0.7846185],\n",
       " [0.89206004, 1.0, 0.415252, 0.9420183, 0.39326173],\n",
       " [0.8990634, 0.34883025, 0.415252, 0.9260866, 0.85236686],\n",
       " [0.83679104, 1.0, 0.7220366, 0.90915656, 0.63083595],\n",
       " [0.86297923, 1.0, 0.7800586, 0.49025878, 0.39326173],\n",
       " [0.51913893, 0.27727658, 0.7345118, 0.75372136, 0.7901036],\n",
       " [0.8598415, 0.33519113, 0.415252, 0.86529744, 0.39326173],\n",
       " [0.84396225, 0.30953673, 0.415252, 0.5807965, 0.8522429],\n",
       " [0.74724144, 1.0, 0.74932945, 0.49025878, 0.39326173],\n",
       " [0.5928996, 0.21702258, 0.7058372, 0.87844694, 0.8965025],\n",
       " [0.52936476, 0.27735066, 0.7476368, 0.87224966, 0.666852],\n",
       " [0.82228464, 1.0, 0.79225457, 0.49025878, 0.39326173],\n",
       " [0.44802037, 0.46249944, 0.70511115, 0.60425556, 0.8068432],\n",
       " [0.7845682, 1.0, 0.7071199, 0.9214914, 0.6576],\n",
       " [0.8804539, 0.30931175, 0.415252, 0.5807965, 0.79809946],\n",
       " [0.6321628, 1.0, 0.76112396, 0.74205244, 0.8561645],\n",
       " [0.8132636, 0.33136225, 0.415252, 0.920729, 0.39326173],\n",
       " [0.59895104, 0.26693934, 0.7058372, 0.91401654, 0.86149406],\n",
       " [0.87016326, 0.12771773, 0.415252, 0.5807965, 0.82068694],\n",
       " [0.76335096, 0.2587781, 0.7371391, 0.90332425, 0.7173452],\n",
       " [0.8876738, 0.29899377, 0.7000879, 0.90571696, 0.39326173],\n",
       " [0.81919676, 0.110601075, 0.7323612, 0.92245436, 0.52492064],\n",
       " [0.41045368, 1.0, 0.7998078, 0.49025878, 0.39326173],\n",
       " [0.8902394, 0.16819529, 0.7155042, 0.89298695, 0.6150706],\n",
       " [0.9001753, 0.38060227, 0.7058372, 0.8889802, 0.7973189],\n",
       " [0.81141347, 0.40265733, 0.72157246, 0.91812426, 0.7373161],\n",
       " [0.8780563, 0.33761707, 0.415252, 0.90387475, 0.39326173],\n",
       " [0.85389733, 0.16819529, 0.63656825, 0.8690537, 0.38221613],\n",
       " [0.8367947, 0.3161519, 0.757676, 0.91904867, 0.8085589],\n",
       " [0.46581298, 0.27211806, 0.73479867, 0.89472497, 0.8300557],\n",
       " [0.9120666, 1.0, 0.7713398, 0.9306131, 0.39326173],\n",
       " [0.8906481, 0.3069953, 0.415252, 0.8359937, 0.39326173],\n",
       " [0.89172655, 0.16819529, 0.76705754, 0.93271685, 0.7362548],\n",
       " [0.828003, 0.23758444, 0.7380192, 0.8730717, 0.7144943],\n",
       " [0.9015574, 0.30834377, 0.66055554, 0.88942975, 0.777964],\n",
       " [0.8139108, 1.0, 0.772103, 0.8956433, 0.39326173],\n",
       " [0.9007141, 0.16498697, 0.415252, 0.8534825, 0.39326173],\n",
       " [0.7380196, 1.0, 0.7581928, 0.9203885, 0.7258822],\n",
       " [0.57609004, 0.27334747, 0.7589241, 0.7302753, 0.7088998],\n",
       " [0.6988357, 0.3952465, 0.733054, 0.6945912, 0.52911055],\n",
       " [0.8720084, 0.3587501, 0.415252, 0.6639387, 0.7402569]]"
      ]
     },
     "metadata": {},
     "execution_count": 83
    }
   ],
   "metadata": {}
  },
  {
   "cell_type": "code",
   "execution_count": null,
   "source": [],
   "outputs": [],
   "metadata": {}
  }
 ]
}